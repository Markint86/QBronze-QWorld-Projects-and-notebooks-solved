{
 "cells": [
  {
   "cell_type": "markdown",
   "metadata": {},
   "source": [
    "<a href=\"https://qworld.net\" target=\"_blank\" align=\"left\"><img src=\"../qworld/images/header.jpg\"  align=\"left\"></a>\n",
    "$ \\newcommand{\\bra}[1]{\\langle #1|} $\n",
    "$ \\newcommand{\\ket}[1]{|#1\\rangle} $\n",
    "$ \\newcommand{\\braket}[2]{\\langle #1|#2\\rangle} $\n",
    "$ \\newcommand{\\dot}[2]{ #1 \\cdot #2} $\n",
    "$ \\newcommand{\\biginner}[2]{\\left\\langle #1,#2\\right\\rangle} $\n",
    "$ \\newcommand{\\mymatrix}[2]{\\left( \\begin{array}{#1} #2\\end{array} \\right)} $\n",
    "$ \\newcommand{\\myvector}[1]{\\mymatrix{c}{#1}} $\n",
    "$ \\newcommand{\\myrvector}[1]{\\mymatrix{r}{#1}} $\n",
    "$ \\newcommand{\\mypar}[1]{\\left( #1 \\right)} $\n",
    "$ \\newcommand{\\mybigpar}[1]{ \\Big( #1 \\Big)} $\n",
    "$ \\newcommand{\\sqrttwo}{\\frac{1}{\\sqrt{2}}} $\n",
    "$ \\newcommand{\\dsqrttwo}{\\dfrac{1}{\\sqrt{2}}} $\n",
    "$ \\newcommand{\\onehalf}{\\frac{1}{2}} $\n",
    "$ \\newcommand{\\donehalf}{\\dfrac{1}{2}} $\n",
    "$ \\newcommand{\\hadamard}{ \\mymatrix{rr}{ \\sqrttwo & \\sqrttwo \\\\ \\sqrttwo & -\\sqrttwo }} $\n",
    "$ \\newcommand{\\vzero}{\\myvector{1\\\\0}} $\n",
    "$ \\newcommand{\\vone}{\\myvector{0\\\\1}} $\n",
    "$ \\newcommand{\\stateplus}{\\myvector{ \\sqrttwo \\\\  \\sqrttwo } } $\n",
    "$ \\newcommand{\\stateminus}{ \\myrvector{ \\sqrttwo \\\\ -\\sqrttwo } } $\n",
    "$ \\newcommand{\\myarray}[2]{ \\begin{array}{#1}#2\\end{array}} $\n",
    "$ \\newcommand{\\X}{ \\mymatrix{cc}{0 & 1 \\\\ 1 & 0}  } $\n",
    "$ \\newcommand{\\I}{ \\mymatrix{rr}{1 & 0 \\\\ 0 & 1}  } $\n",
    "$ \\newcommand{\\Z}{ \\mymatrix{rr}{1 & 0 \\\\ 0 & -1}  } $\n",
    "$ \\newcommand{\\Htwo}{ \\mymatrix{rrrr}{ \\frac{1}{2} & \\frac{1}{2} & \\frac{1}{2} & \\frac{1}{2} \\\\ \\frac{1}{2} & -\\frac{1}{2} & \\frac{1}{2} & -\\frac{1}{2} \\\\ \\frac{1}{2} & \\frac{1}{2} & -\\frac{1}{2} & -\\frac{1}{2} \\\\ \\frac{1}{2} & -\\frac{1}{2} & -\\frac{1}{2} & \\frac{1}{2} } } $\n",
    "$ \\newcommand{\\CNOT}{ \\mymatrix{cccc}{1 & 0 & 0 & 0 \\\\ 0 & 1 & 0 & 0 \\\\ 0 & 0 & 0 & 1 \\\\ 0 & 0 & 1 & 0} } $\n",
    "$ \\newcommand{\\norm}[1]{ \\left\\lVert #1 \\right\\rVert } $\n",
    "$ \\newcommand{\\pstate}[1]{ \\lceil \\mspace{-1mu} #1 \\mspace{-1.5mu} \\rfloor } $\n",
    "$ \\newcommand{\\greenbit}[1] {\\mathbf{{\\color{green}#1}}} $\n",
    "$ \\newcommand{\\bluebit}[1] {\\mathbf{{\\color{blue}#1}}} $\n",
    "$ \\newcommand{\\redbit}[1] {\\mathbf{{\\color{red}#1}}} $\n",
    "$ \\newcommand{\\brownbit}[1] {\\mathbf{{\\color{brown}#1}}} $\n",
    "$ \\newcommand{\\blackbit}[1] {\\mathbf{{\\color{black}#1}}} $"
   ]
  },
  {
   "cell_type": "markdown",
   "metadata": {},
   "source": [
    "<font style=\"font-size:28px;\" align=\"left\"><b> Inversion About the Mean </b></font>\n",
    "<br>\n",
    "_prepared by Abuzer Yakaryilmaz and Özlem Salehi_\n",
    "<br><br>\n",
    "[<img src=\"../qworld/images/watch_lecture.jpg\" align=\"left\">](https://youtu.be/RIL2lAwraUA)\n",
    "<br><br><br>"
   ]
  },
  {
   "cell_type": "markdown",
   "metadata": {},
   "source": [
    "We play a simple game to give some ideas about how Grover's search algorithm works.\n",
    "\n",
    "We have a list of N elements. \n",
    "\n",
    "Some of them are marked.\n",
    "\n",
    "At the beginning each has a value of 1.\n",
    "\n",
    " Each iteration of the game has two phases:\n",
    "\n",
    "<ol>\n",
    "    <li><b>Query</b>: In this phase, we assume that each marked element is detected, and then its sign is flipped.</li>\n",
    "    <li><b>Inversion</b>: In this phase, the value of each element is reflected over the mean of all values.</li>\n",
    "</ol>"
   ]
  },
  {
   "cell_type": "markdown",
   "metadata": {},
   "source": [
    "<h3>Task 1</h3>\n",
    "\n",
    "We play this game for $ N = 8 $.\n",
    "\n",
    "Suppose that only the 4th element is marked.\n",
    "\n",
    "We can visualize the values of elements in the list in the beginning as follows."
   ]
  },
  {
   "cell_type": "code",
   "execution_count": 15,
   "metadata": {},
   "outputs": [
    {
     "data": {
      "text/plain": [
       "<BarContainer object of 8 artists>"
      ]
     },
     "execution_count": 15,
     "metadata": {},
     "output_type": "execute_result"
    },
    {
     "data": {
      "image/png": "[encoded data removed]",
      "text/plain": [
       "<Figure size 432x288 with 1 Axes>"
      ]
     },
     "metadata": {
      "needs_background": "light"
     },
     "output_type": "display_data"
    }
   ],
   "source": [
    "from matplotlib.pyplot import bar\n",
    "\n",
    "labels = []\n",
    "elements = []\n",
    "for i in range(8):\n",
    "    labels = labels + [i+1]\n",
    "    elements  = elements + [1]\n",
    "# visualize the values of elements in the list \n",
    "bar(labels,elements)"
   ]
  },
  {
   "cell_type": "markdown",
   "metadata": {},
   "source": [
    "Iterate the game for one step and visualize the values of elements in the list after each phase."
   ]
  },
  {
   "cell_type": "markdown",
   "metadata": {},
   "source": [
    "1st step - query phase:"
   ]
  },
  {
   "cell_type": "code",
   "execution_count": 16,
   "metadata": {},
   "outputs": [
    {
     "data": {
      "text/plain": [
       "<BarContainer object of 8 artists>"
      ]
     },
     "execution_count": 16,
     "metadata": {},
     "output_type": "execute_result"
    },
    {
     "data": {
      "image/png": "[encoded data removed]",
      "text/plain": [
       "<Figure size 432x288 with 1 Axes>"
      ]
     },
     "metadata": {
      "needs_background": "light"
     },
     "output_type": "display_data"
    }
   ],
   "source": [
    "# \n",
    "# 1st step - query\n",
    "#\n",
    "\n",
    "# change the sign of the marked element, i.e., multiply it by -1\n",
    "label_marked=3\n",
    "elements[label_marked]*=-1\n",
    "    \n",
    "# visualize the values of elements in the list \n",
    "bar(labels,elements)"
   ]
  },
  {
   "cell_type": "markdown",
   "metadata": {},
   "source": [
    "1st step - inversion phase:"
   ]
  },
  {
   "cell_type": "code",
   "execution_count": 17,
   "metadata": {},
   "outputs": [
    {
     "name": "stdout",
     "output_type": "stream",
     "text": [
      "0.75\n"
     ]
    },
    {
     "data": {
      "text/plain": [
       "<BarContainer object of 8 artists>"
      ]
     },
     "execution_count": 17,
     "metadata": {},
     "output_type": "execute_result"
    },
    {
     "data": {
      "image/png": "[encoded data removed]",
      "text/plain": [
       "<Figure size 432x288 with 1 Axes>"
      ]
     },
     "metadata": {
      "needs_background": "light"
     },
     "output_type": "display_data"
    }
   ],
   "source": [
    "#\n",
    "# 1st step - inversion\n",
    "#\n",
    "\n",
    "# calculate the mean of all values \n",
    "mean=0\n",
    "for i in range(len(elements)):\n",
    "    mean+=elements[i]\n",
    "mean=mean/len(elements)\n",
    "print(mean) \n",
    "# then reflect each element over the mean, e.g.:\n",
    "#   if the mean is 0, then the reflection of 3 is -3\n",
    "#   if the mean is 1, then the reflection of 3 is -1\n",
    "#   if the mean is -1, then the reflection of 3 is -5\n",
    "# if the mean is -1, then the reflection of -4 is 3\n",
    "for i in range(len(elements)):\n",
    "    if elements[i]>mean:\n",
    "        elements[i]=mean-abs(mean-elements[i])\n",
    "    else:\n",
    "        elements[i]=mean+abs(mean-elements[i])\n",
    "\n",
    "# visualize the values of elements in the list \n",
    "bar(labels,elements)"
   ]
  },
  {
   "cell_type": "markdown",
   "metadata": {},
   "source": [
    "Iterate the game for one more step and visualize the values of elements in the list after each phase."
   ]
  },
  {
   "cell_type": "markdown",
   "metadata": {},
   "source": [
    "2nd step - query phase:"
   ]
  },
  {
   "cell_type": "code",
   "execution_count": 18,
   "metadata": {},
   "outputs": [
    {
     "data": {
      "text/plain": [
       "<BarContainer object of 8 artists>"
      ]
     },
     "execution_count": 18,
     "metadata": {},
     "output_type": "execute_result"
    },
    {
     "data": {
      "image/png": "[encoded data removed]",
      "text/plain": [
       "<Figure size 432x288 with 1 Axes>"
      ]
     },
     "metadata": {
      "needs_background": "light"
     },
     "output_type": "display_data"
    }
   ],
   "source": [
    "# \n",
    "# 2nd step - query\n",
    "#\n",
    "\n",
    "label_marked=3\n",
    "elements[label_marked]*=-1\n",
    "# visualize the values of elements in the list \n",
    "bar(labels,elements)"
   ]
  },
  {
   "cell_type": "markdown",
   "metadata": {},
   "source": [
    "2nd step - inversion phase:"
   ]
  },
  {
   "cell_type": "code",
   "execution_count": 19,
   "metadata": {},
   "outputs": [
    {
     "name": "stdout",
     "output_type": "stream",
     "text": [
      "0.125\n"
     ]
    },
    {
     "data": {
      "text/plain": [
       "<BarContainer object of 8 artists>"
      ]
     },
     "execution_count": 19,
     "metadata": {},
     "output_type": "execute_result"
    },
    {
     "data": {
      "image/png": "[encoded data removed]",
      "text/plain": [
       "<Figure size 432x288 with 1 Axes>"
      ]
     },
     "metadata": {
      "needs_background": "light"
     },
     "output_type": "display_data"
    }
   ],
   "source": [
    "#\n",
    "# 2nd step - inversion\n",
    "#\n",
    "mean=0\n",
    "for i in range(len(elements)):\n",
    "    mean+=elements[i]\n",
    "mean=mean/len(elements)\n",
    "print(mean) \n",
    "# then reflect each element over the mean, e.g.:\n",
    "#   if the mean is 0, then the reflection of 3 is -3\n",
    "#   if the mean is 1, then the reflection of 3 is -1\n",
    "#   if the mean is -1, then the reflection of 3 is -5\n",
    "# if the mean is -1, then the reflection of -4 is 3\n",
    "for i in range(len(elements)):\n",
    "    if elements[i]>mean:\n",
    "        elements[i]=mean-abs(mean-elements[i])\n",
    "    else:\n",
    "        elements[i]=mean+abs(mean-elements[i])\n",
    "\n",
    "# visualize the values of elements in the list \n",
    "bar(labels,elements)"
   ]
  },
  {
   "cell_type": "markdown",
   "metadata": {},
   "source": [
    "Iterate the game three more steps and visualize the values of elements in the list at the end."
   ]
  },
  {
   "cell_type": "code",
   "execution_count": 20,
   "metadata": {},
   "outputs": [
    {
     "name": "stdout",
     "output_type": "stream",
     "text": [
      "-0.5625\n",
      "-0.96875\n",
      "-0.890625\n"
     ]
    },
    {
     "data": {
      "text/plain": [
       "<BarContainer object of 8 artists>"
      ]
     },
     "execution_count": 20,
     "metadata": {},
     "output_type": "execute_result"
    },
    {
     "data": {
      "image/png": "[encoded data removed]",
      "text/plain": [
       "<Figure size 432x288 with 1 Axes>"
      ]
     },
     "metadata": {
      "needs_background": "light"
     },
     "output_type": "display_data"
    }
   ],
   "source": [
    "for i in range(3):\n",
    "    label_marked=3\n",
    "    elements[label_marked]*=-1\n",
    "    mean=0\n",
    "    for i in range(len(elements)):\n",
    "        mean+=elements[i]\n",
    "    mean=mean/len(elements)\n",
    "    print(mean) \n",
    "# then reflect each element over the mean, e.g.:\n",
    "#   if the mean is 0, then the reflection of 3 is -3\n",
    "#   if the mean is 1, then the reflection of 3 is -1\n",
    "#   if the mean is -1, then the reflection of 3 is -5\n",
    "# if the mean is -1, then the reflection of -4 is 3\n",
    "    for i in range(len(elements)):\n",
    "        if elements[i]>mean:\n",
    "            elements[i]=mean-abs(mean-elements[i])\n",
    "        else:\n",
    "            elements[i]=mean+abs(mean-elements[i])\n",
    "\n",
    "\n",
    "# visualize the values of elements in the list \n",
    "bar(labels,elements)"
   ]
  },
  {
   "cell_type": "markdown",
   "metadata": {},
   "source": [
    "<a href=\"Q84_Inversion_About_the_Mean_Solutions.ipynb#task1\">click for our solution</a>"
   ]
  },
  {
   "cell_type": "markdown",
   "metadata": {},
   "source": [
    "<a id=\"task2\"></a>\n",
    "<h3>Task 2</h3>\n",
    "\n",
    "Write a function called *query* that \n",
    "- takes a list of elements and the list of marked elements,\n",
    "- change the sign of the marked elements, and then\n",
    "- returns the list.\n",
    "\n",
    "Write a function called *inversion* that\n",
    "- takes a list of elements and\n",
    "- reflects the value of each element over the mean of all values, and then\n",
    "- return the list.\n",
    "\n",
    "We iterate the same game given in Task 1 ($ N = 8 $ and the 4th element is the only marked one) 20 steps by using the functions *query* and *inversion*. \n",
    "\n",
    "**This time we trace the values of only the 4th element. We store the values of the 4th element on a list after each step, and then, we display this list as a bar chart.**"
   ]
  },
  {
   "cell_type": "code",
   "execution_count": 2,
   "metadata": {},
   "outputs": [],
   "source": [
    "def query(elements,marked_elements):\n",
    "    for i in range(len(marked_elements)):\n",
    "        elements[marked_elements[i]]*=-1\n",
    "    return elements"
   ]
  },
  {
   "cell_type": "code",
   "execution_count": 3,
   "metadata": {},
   "outputs": [],
   "source": [
    "def inversion (elements):\n",
    "    mean=0\n",
    "    for i in range(len(elements)):\n",
    "        mean+=elements[i]\n",
    "    mean=mean/len(elements) \n",
    "    for i in range(len(elements)):\n",
    "        if elements[i]>mean:\n",
    "            elements[i]=mean-abs(mean-elements[i])\n",
    "        else:\n",
    "            elements[i]=mean+abs(mean-elements[i])   \n",
    "    return elements"
   ]
  },
  {
   "cell_type": "code",
   "execution_count": 3,
   "metadata": {},
   "outputs": [
    {
     "name": "stderr",
     "output_type": "stream",
     "text": [
      "C:\\Users\\Usuario\\Anaconda3\\lib\\site-packages\\numpy\\_distributor_init.py:32: UserWarning: loaded more than 1 DLL from .libs:\n",
      "C:\\Users\\Usuario\\Anaconda3\\lib\\site-packages\\numpy\\.libs\\libopenblas.GK7GX5KEQ4F6UYO3P26ULGBQYHGQO7J4.gfortran-win_amd64.dll\n",
      "C:\\Users\\Usuario\\Anaconda3\\lib\\site-packages\\numpy\\.libs\\libopenblas.XWYDX2IKJW2NMTWSFYNGFUWKQU3LYTCZ.gfortran-win_amd64.dll\n",
      "  stacklevel=1)\n"
     ]
    },
    {
     "data": {
      "text/plain": [
       "<BarContainer object of 21 artists>"
      ]
     },
     "execution_count": 3,
     "metadata": {},
     "output_type": "execute_result"
    },
    {
     "data": {
      "image/png": "[encoded data removed]",
      "text/plain": [
       "<Figure size 432x288 with 1 Axes>"
      ]
     },
     "metadata": {
      "needs_background": "light"
     },
     "output_type": "display_data"
    }
   ],
   "source": [
    "from matplotlib.pyplot import bar\n",
    "\n",
    "# define the list of size 8 on which each element has value of 1\n",
    "elements = []\n",
    "for i in range(8):\n",
    "    elements  = elements + [1]\n",
    "\n",
    "# index of the marked element\n",
    "marked_elements = [3]\n",
    "    \n",
    "# define the list of iterations\n",
    "iterations = []\n",
    "# the list storing the values of the 4th element after each step\n",
    "L = []\n",
    "\n",
    "# the first values\n",
    "iterations.append(0)\n",
    "L.append(elements[marked_elements[0]])\n",
    "\n",
    "for step in range(20):\n",
    "    # store the iteration\n",
    "    iterations.append(step+1)\n",
    "    query(elements,marked_elements)\n",
    "    inversion (elements)\n",
    "    L.append(elements[marked_elements[0]])\n",
    "# visualize the values of the 4th elements after each iterations\n",
    "bar(iterations,L)"
   ]
  },
  {
   "cell_type": "markdown",
   "metadata": {},
   "source": [
    "<a href=\"Q84_Inversion_About_the_Mean_Solutions.ipynb#task2\">click for our solution</a>"
   ]
  },
  {
   "cell_type": "markdown",
   "metadata": {},
   "source": [
    "<h3>Task 3</h3>\n",
    "\n",
    "Repeat Task 2 where $ N = 16 $ and the 11th element is marked."
   ]
  },
  {
   "cell_type": "code",
   "execution_count": 4,
   "metadata": {},
   "outputs": [
    {
     "data": {
      "text/plain": [
       "<BarContainer object of 21 artists>"
      ]
     },
     "execution_count": 4,
     "metadata": {},
     "output_type": "execute_result"
    },
    {
     "data": {
      "image/png": "[encoded data removed]",
      "text/plain": [
       "<Figure size 432x288 with 1 Axes>"
      ]
     },
     "metadata": {
      "needs_background": "light"
     },
     "output_type": "display_data"
    }
   ],
   "source": [
    "from matplotlib.pyplot import bar\n",
    "\n",
    "# define the list of size 8 on which each element has value of 1\n",
    "elements = []\n",
    "for i in range(16):\n",
    "    elements  = elements + [1]\n",
    "\n",
    "# index of the marked element\n",
    "marked_elements = [10]\n",
    "    \n",
    "# define the list of iterations\n",
    "iterations = []\n",
    "# the list storing the values of the 4th element after each step\n",
    "L = []\n",
    "\n",
    "# the first values\n",
    "iterations.append(0)\n",
    "L.append(elements[marked_elements[0]])\n",
    "\n",
    "for step in range(20):\n",
    "    # store the iteration\n",
    "    iterations.append(step+1)\n",
    "    query(elements,marked_elements)\n",
    "    inversion (elements)\n",
    "    L.append(elements[marked_elements[0]])\n",
    "# visualize the values of the 4th elements after each iterations\n",
    "bar(iterations,L)"
   ]
  },
  {
   "cell_type": "markdown",
   "metadata": {},
   "source": [
    "<a href=\"Q84_Inversion_About_the_Mean_Solutions.ipynb#task3\">click for our solution</a>"
   ]
  },
  {
   "cell_type": "markdown",
   "metadata": {},
   "source": [
    "<h3>Task 4</h3>\n",
    "\n",
    "Repeat Task 3 by tracing only the 5th element where $ N = 16 $ and the 5th, 8th, and 10th elements are marked."
   ]
  },
  {
   "cell_type": "code",
   "execution_count": 5,
   "metadata": {},
   "outputs": [
    {
     "data": {
      "text/plain": [
       "<BarContainer object of 21 artists>"
      ]
     },
     "execution_count": 5,
     "metadata": {},
     "output_type": "execute_result"
    },
    {
     "data": {
      "image/png": "[encoded data removed]",
      "text/plain": [
       "<Figure size 432x288 with 1 Axes>"
      ]
     },
     "metadata": {
      "needs_background": "light"
     },
     "output_type": "display_data"
    }
   ],
   "source": [
    "from matplotlib.pyplot import bar\n",
    "\n",
    "# define the list of size 8 on which each element has value of 1\n",
    "elements = []\n",
    "for i in range(16):\n",
    "    elements  = elements + [1]\n",
    "\n",
    "# index of the marked element\n",
    "marked_elements = [4,7,9]\n",
    "    \n",
    "# define the list of iterations\n",
    "iterations = []\n",
    "# the list storing the values of the 4th element after each step\n",
    "L = []\n",
    "\n",
    "# the first values\n",
    "iterations.append(0)\n",
    "L.append(elements[marked_elements[0]])\n",
    "\n",
    "for step in range(20):\n",
    "    # store the iteration\n",
    "    iterations.append(step+1)\n",
    "    query(elements,marked_elements)\n",
    "    inversion (elements)\n",
    "    L.append(elements[marked_elements[0]])\n",
    "# visualize the values of the 4th elements after each iterations\n",
    "bar(iterations,L)"
   ]
  },
  {
   "cell_type": "markdown",
   "metadata": {},
   "source": [
    "<a href=\"Q84_Inversion_About_the_Mean_Solutions.ipynb#task4\">click for our solution</a>"
   ]
  },
  {
   "cell_type": "markdown",
   "metadata": {},
   "source": [
    "<h3>Task 5</h3>\n",
    "\n",
    "We iterate the same game 20 steps where $ N = 16 $ and the marked elements are the first four elements. \n",
    "\n",
    "Print the length of the list of elements (_i.e., consider it as a vector_) after each query and inversion phases. \n",
    "\n",
    "*Remark that the initial length is $ \\sqrt{ \\sum_{i=1}^{N} 1^2 } = \\sqrt{N} = \\sqrt{16}  =4 $.*"
   ]
  },
  {
   "cell_type": "code",
   "execution_count": 20,
   "metadata": {},
   "outputs": [
    {
     "name": "stdout",
     "output_type": "stream",
     "text": [
      "Step 1 :the length of the list elements is 4.0 after the query phase\n",
      "Step 1 :the length of the list elements is 4.0 after the inversion phase\n",
      "\n",
      "Step 2 :the length of the list elements is 4.0 after the query phase\n",
      "Step 2 :the length of the list elements is 4.0 after the inversion phase\n",
      "\n",
      "Step 3 :the length of the list elements is 4.0 after the query phase\n",
      "Step 3 :the length of the list elements is 4.0 after the inversion phase\n",
      "\n",
      "Step 4 :the length of the list elements is 4.0 after the query phase\n",
      "Step 4 :the length of the list elements is 4.0 after the inversion phase\n",
      "\n",
      "Step 5 :the length of the list elements is 4.0 after the query phase\n",
      "Step 5 :the length of the list elements is 4.0 after the inversion phase\n",
      "\n",
      "Step 6 :the length of the list elements is 4.0 after the query phase\n",
      "Step 6 :the length of the list elements is 4.0 after the inversion phase\n",
      "\n",
      "Step 7 :the length of the list elements is 4.0 after the query phase\n",
      "Step 7 :the length of the list elements is 4.0 after the inversion phase\n",
      "\n",
      "Step 8 :the length of the list elements is 4.0 after the query phase\n",
      "Step 8 :the length of the list elements is 4.0 after the inversion phase\n",
      "\n",
      "Step 9 :the length of the list elements is 4.0 after the query phase\n",
      "Step 9 :the length of the list elements is 4.0 after the inversion phase\n",
      "\n",
      "Step 10 :the length of the list elements is 4.0 after the query phase\n",
      "Step 10 :the length of the list elements is 4.0 after the inversion phase\n",
      "\n",
      "Step 11 :the length of the list elements is 4.0 after the query phase\n",
      "Step 11 :the length of the list elements is 4.0 after the inversion phase\n",
      "\n",
      "Step 12 :the length of the list elements is 4.0 after the query phase\n",
      "Step 12 :the length of the list elements is 4.0 after the inversion phase\n",
      "\n",
      "Step 13 :the length of the list elements is 4.0 after the query phase\n",
      "Step 13 :the length of the list elements is 4.0 after the inversion phase\n",
      "\n",
      "Step 14 :the length of the list elements is 4.0 after the query phase\n",
      "Step 14 :the length of the list elements is 4.0 after the inversion phase\n",
      "\n",
      "Step 15 :the length of the list elements is 4.0 after the query phase\n",
      "Step 15 :the length of the list elements is 4.0 after the inversion phase\n",
      "\n",
      "Step 16 :the length of the list elements is 4.0 after the query phase\n",
      "Step 16 :the length of the list elements is 4.0 after the inversion phase\n",
      "\n",
      "Step 17 :the length of the list elements is 4.0 after the query phase\n",
      "Step 17 :the length of the list elements is 4.0 after the inversion phase\n",
      "\n",
      "Step 18 :the length of the list elements is 4.0 after the query phase\n",
      "Step 18 :the length of the list elements is 4.0 after the inversion phase\n",
      "\n",
      "Step 19 :the length of the list elements is 4.0 after the query phase\n",
      "Step 19 :the length of the list elements is 4.0 after the inversion phase\n",
      "\n",
      "Step 20 :the length of the list elements is 4.0 after the query phase\n",
      "Step 20 :the length of the list elements is 4.0 after the inversion phase\n",
      "\n"
     ]
    }
   ],
   "source": [
    "from matplotlib.pyplot import bar\n",
    "\n",
    "# define the list of size 8 on which each element has value of 1\n",
    "elements = []\n",
    "for i in range(16):\n",
    "    elements  = elements + [1]\n",
    "\n",
    "# index of the marked element\n",
    "marked_elements = [0,1,2,3]\n",
    "    \n",
    "# define the list of iterations\n",
    "iterations = []\n",
    "# the list storing the values of the 4th element after each step\n",
    "L = []\n",
    "\n",
    "# the first values\n",
    "iterations.append(0)\n",
    "L.append(elements[marked_elements[0]])\n",
    "\n",
    "for step in range(20):\n",
    "    # store the iteration\n",
    "    iterations.append(step+1)\n",
    "    query(elements,marked_elements)\n",
    "    suma=0\n",
    "    for i in range(len(elements)):\n",
    "        suma+=elements[i]**2\n",
    "    print('Step',step+1,':the length of the list elements is',suma**0.5,'after the query phase')\n",
    "    inversion (elements)\n",
    "    suma=0\n",
    "    for i in range(len(elements)):\n",
    "        suma+=elements[i]**2\n",
    "    print('Step',step+1,':the length of the list elements is',suma**0.5,'after the inversion phase')\n",
    "    print()\n",
    "# visualize the values of the 4th elements after each iterations\n",
    "#bar(iterations,L)"
   ]
  },
  {
   "cell_type": "markdown",
   "metadata": {},
   "source": [
    "<a href=\"Q84_Inversion_About_the_Mean_Solutions.ipynb#task5\">click for our solution</a>"
   ]
  },
  {
   "cell_type": "markdown",
   "metadata": {},
   "source": [
    "<h3>Task 6 </h3>\n",
    "\n",
    "Repeat Task 5 where $ N = 10 $ and the last element is marked.\n",
    "\n",
    "*Remark that the initial length is $ \\sqrt{10} $.*"
   ]
  },
  {
   "cell_type": "code",
   "execution_count": 32,
   "metadata": {},
   "outputs": [
    {
     "name": "stdout",
     "output_type": "stream",
     "text": [
      "Step 1 :the length of the list elements is 3.162 after the query phase\n",
      "Step 1 :the length of the list elements is 3.162 after the inversion phase\n",
      "\n",
      "Step 2 :the length of the list elements is 3.162 after the query phase\n",
      "Step 2 :the length of the list elements is 3.162 after the inversion phase\n",
      "\n",
      "Step 3 :the length of the list elements is 3.162 after the query phase\n",
      "Step 3 :the length of the list elements is 3.162 after the inversion phase\n",
      "\n",
      "Step 4 :the length of the list elements is 3.162 after the query phase\n",
      "Step 4 :the length of the list elements is 3.162 after the inversion phase\n",
      "\n",
      "Step 5 :the length of the list elements is 3.162 after the query phase\n",
      "Step 5 :the length of the list elements is 3.162 after the inversion phase\n",
      "\n",
      "Step 6 :the length of the list elements is 3.162 after the query phase\n",
      "Step 6 :the length of the list elements is 3.162 after the inversion phase\n",
      "\n",
      "Step 7 :the length of the list elements is 3.162 after the query phase\n",
      "Step 7 :the length of the list elements is 3.162 after the inversion phase\n",
      "\n",
      "Step 8 :the length of the list elements is 3.162 after the query phase\n",
      "Step 8 :the length of the list elements is 3.162 after the inversion phase\n",
      "\n",
      "Step 9 :the length of the list elements is 3.162 after the query phase\n",
      "Step 9 :the length of the list elements is 3.162 after the inversion phase\n",
      "\n",
      "Step 10 :the length of the list elements is 3.162 after the query phase\n",
      "Step 10 :the length of the list elements is 3.162 after the inversion phase\n",
      "\n",
      "Step 11 :the length of the list elements is 3.162 after the query phase\n",
      "Step 11 :the length of the list elements is 3.162 after the inversion phase\n",
      "\n",
      "Step 12 :the length of the list elements is 3.162 after the query phase\n",
      "Step 12 :the length of the list elements is 3.162 after the inversion phase\n",
      "\n",
      "Step 13 :the length of the list elements is 3.162 after the query phase\n",
      "Step 13 :the length of the list elements is 3.162 after the inversion phase\n",
      "\n",
      "Step 14 :the length of the list elements is 3.162 after the query phase\n",
      "Step 14 :the length of the list elements is 3.162 after the inversion phase\n",
      "\n",
      "Step 15 :the length of the list elements is 3.162 after the query phase\n",
      "Step 15 :the length of the list elements is 3.162 after the inversion phase\n",
      "\n",
      "Step 16 :the length of the list elements is 3.162 after the query phase\n",
      "Step 16 :the length of the list elements is 3.162 after the inversion phase\n",
      "\n",
      "Step 17 :the length of the list elements is 3.162 after the query phase\n",
      "Step 17 :the length of the list elements is 3.162 after the inversion phase\n",
      "\n",
      "Step 18 :the length of the list elements is 3.162 after the query phase\n",
      "Step 18 :the length of the list elements is 3.162 after the inversion phase\n",
      "\n",
      "Step 19 :the length of the list elements is 3.162 after the query phase\n",
      "Step 19 :the length of the list elements is 3.162 after the inversion phase\n",
      "\n",
      "Step 20 :the length of the list elements is 3.162 after the query phase\n",
      "Step 20 :the length of the list elements is 3.162 after the inversion phase\n",
      "\n"
     ]
    }
   ],
   "source": [
    "from matplotlib.pyplot import bar\n",
    "\n",
    "# define the list of size 8 on which each element has value of 1\n",
    "elements = []\n",
    "for i in range(10):\n",
    "    elements  = elements + [1]\n",
    "\n",
    "# index of the marked element\n",
    "marked_elements = [9]\n",
    "    \n",
    "# define the list of iterations\n",
    "iterations = []\n",
    "# the list storing the values of the 4th element after each step\n",
    "L = []\n",
    "\n",
    "# the first values\n",
    "iterations.append(0)\n",
    "L.append(elements[marked_elements[0]])\n",
    "\n",
    "for step in range(20):\n",
    "    # store the iteration\n",
    "    iterations.append(step+1)\n",
    "    query(elements,marked_elements)\n",
    "    suma=0\n",
    "    for i in range(len(elements)):\n",
    "        suma+=elements[i]**2\n",
    "    print('Step',step+1,':the length of the list elements is %.3f'% suma**0.5,'after the query phase')\n",
    "    inversion (elements)\n",
    "    suma=0\n",
    "    for i in range(len(elements)):\n",
    "        suma+=elements[i]**2\n",
    "    print('Step',step+1,':the length of the list elements is %.3f'% suma**0.5,'after the inversion phase')\n",
    "    print()\n",
    "# visualize the values of the 4th elements after each iterations\n",
    "#bar(iterations,L)"
   ]
  },
  {
   "cell_type": "markdown",
   "metadata": {},
   "source": [
    "<a href=\"Q84_Inversion_About_the_Mean_Solutions.ipynb#task6\">click for our solution</a>"
   ]
  },
  {
   "cell_type": "markdown",
   "metadata": {},
   "source": [
    "### Length preserving game\n",
    "\n",
    "As observed from the last two tasks, each phase of the game is a length preserving operator (function).\n",
    "\n",
    "*Do you think that query and inversion operators are linear? More specifically, can we represent them in the form of a matrix?*\n",
    "\n",
    "The answer for the query operator is easy as it only changes the sign of marked elements, and so its matrix form is very similar to an Identity matrix having -1 in some of the diagonal entries."
   ]
  },
  {
   "cell_type": "markdown",
   "metadata": {},
   "source": [
    "<h3> Modified Game </h3>\n",
    "\n",
    "In this part, we restrict the game by guaranteeing that the list represents a quantum state."
   ]
  },
  {
   "cell_type": "markdown",
   "metadata": {},
   "source": [
    "<h3> Task 7</h3>\n",
    "\n",
    "What are the initial values for the modified game if $ N=8 $?"
   ]
  },
  {
   "cell_type": "markdown",
   "metadata": {},
   "source": [
    "<a href=\"Q84_Inversion_About_the_Mean_Solutions.ipynb#task7\">click for our solution</a>"
   ]
  },
  {
   "cell_type": "markdown",
   "metadata": {},
   "source": [
    "<h3> Task 8</h3>\n",
    "\n",
    "Iterate the modified game for 20 steps where $ N = 8 $ and the second element is marked.\n",
    "\n",
    "Print the list of elements after each phase.\n",
    "\n",
    "Check whether the length of list is 1 after each iteration."
   ]
  },
  {
   "cell_type": "code",
   "execution_count": 4,
   "metadata": {},
   "outputs": [
    {
     "name": "stdout",
     "output_type": "stream",
     "text": [
      "Step 1 :the list of elements is [0.35355339059327373, -0.35355339059327373, 0.35355339059327373, 0.35355339059327373, 0.35355339059327373, 0.35355339059327373, 0.35355339059327373, 0.35355339059327373] after the query phase\n",
      "Step 1 :the length of the list elements is 1.000 after the query phase\n",
      "\n",
      "Step 1 :the list of elements is [0.17677669529663687, 0.8838834764831842, 0.17677669529663687, 0.17677669529663687, 0.17677669529663687, 0.17677669529663687, 0.17677669529663687, 0.17677669529663687] after the inversion phase\n",
      "Step 1 :the length of the list elements is 1.000 after the inversion phase\n",
      "\n",
      "\n",
      "Step 2 :the list of elements is [0.17677669529663687, -0.8838834764831842, 0.17677669529663687, 0.17677669529663687, 0.17677669529663687, 0.17677669529663687, 0.17677669529663687, 0.17677669529663687] after the query phase\n",
      "Step 2 :the length of the list elements is 1.000 after the query phase\n",
      "\n",
      "Step 2 :the list of elements is [-0.08838834764831839, 0.9722718241315027, -0.08838834764831839, -0.08838834764831839, -0.08838834764831839, -0.08838834764831839, -0.08838834764831839, -0.08838834764831839] after the inversion phase\n",
      "Step 2 :the length of the list elements is 1.000 after the inversion phase\n",
      "\n",
      "\n",
      "Step 3 :the list of elements is [-0.08838834764831839, -0.9722718241315027, -0.08838834764831839, -0.08838834764831839, -0.08838834764831839, -0.08838834764831839, -0.08838834764831839, -0.08838834764831839] after the query phase\n",
      "Step 3 :the length of the list elements is 1.000 after the query phase\n",
      "\n",
      "Step 3 :the list of elements is [-0.30935921676911465, 0.5745242597140696, -0.30935921676911465, -0.30935921676911465, -0.30935921676911465, -0.30935921676911465, -0.30935921676911465, -0.30935921676911465] after the inversion phase\n",
      "Step 3 :the length of the list elements is 1.000 after the inversion phase\n",
      "\n",
      "\n",
      "Step 4 :the list of elements is [-0.30935921676911465, -0.5745242597140696, -0.30935921676911465, -0.30935921676911465, -0.30935921676911465, -0.30935921676911465, -0.30935921676911465, -0.30935921676911465] after the query phase\n",
      "Step 4 :the length of the list elements is 1.000 after the query phase\n",
      "\n",
      "Step 4 :the list of elements is [-0.37565047750535346, -0.1104854345603985, -0.37565047750535346, -0.37565047750535346, -0.37565047750535346, -0.37565047750535346, -0.37565047750535346, -0.37565047750535346] after the inversion phase\n",
      "Step 4 :the length of the list elements is 1.000 after the inversion phase\n",
      "\n",
      "\n",
      "Step 5 :the list of elements is [-0.37565047750535346, 0.1104854345603985, -0.37565047750535346, -0.37565047750535346, -0.37565047750535346, -0.37565047750535346, -0.37565047750535346, -0.37565047750535346] after the query phase\n",
      "Step 5 :the length of the list elements is 1.000 after the query phase\n",
      "\n",
      "Step 5 :the list of elements is [-0.2541164994889154, -0.7402524115546674, -0.2541164994889154, -0.2541164994889154, -0.2541164994889154, -0.2541164994889154, -0.2541164994889154, -0.2541164994889154] after the inversion phase\n",
      "Step 5 :the length of the list elements is 1.000 after the inversion phase\n",
      "\n",
      "\n",
      "Step 6 :the list of elements is [-0.2541164994889154, 0.7402524115546674, -0.2541164994889154, -0.2541164994889154, -0.2541164994889154, -0.2541164994889154, -0.2541164994889154, -0.2541164994889154] after the query phase\n",
      "Step 6 :the length of the list elements is 1.000 after the query phase\n",
      "\n",
      "Step 6 :the list of elements is [-0.00552427172801967, -0.9998931827716024, -0.00552427172801967, -0.00552427172801967, -0.00552427172801967, -0.00552427172801967, -0.00552427172801967, -0.00552427172801967] after the inversion phase\n",
      "Step 6 :the length of the list elements is 1.000 after the inversion phase\n",
      "\n",
      "\n",
      "Step 7 :the list of elements is [-0.00552427172801967, 0.9998931827716024, -0.00552427172801967, -0.00552427172801967, -0.00552427172801967, -0.00552427172801967, -0.00552427172801967, -0.00552427172801967] after the query phase\n",
      "Step 7 :the length of the list elements is 1.000 after the query phase\n",
      "\n",
      "Step 7 :the list of elements is [0.24583009189688576, -0.7595873626027363, 0.24583009189688576, 0.24583009189688576, 0.24583009189688576, 0.24583009189688576, 0.24583009189688576, 0.24583009189688576] after the inversion phase\n",
      "Step 7 :the length of the list elements is 1.000 after the inversion phase\n",
      "\n",
      "\n",
      "Step 8 :the list of elements is [0.24583009189688576, 0.7595873626027363, 0.24583009189688576, 0.24583009189688576, 0.24583009189688576, 0.24583009189688576, 0.24583009189688576, 0.24583009189688576] after the query phase\n",
      "Step 8 :the length of the list elements is 1.000 after the query phase\n",
      "\n",
      "Step 8 :the list of elements is [0.37426940957334853, -0.139487861132502, 0.37426940957334853, 0.37426940957334853, 0.37426940957334853, 0.37426940957334853, 0.37426940957334853, 0.37426940957334853] after the inversion phase\n",
      "Step 8 :the length of the list elements is 1.000 after the inversion phase\n",
      "\n",
      "\n",
      "Step 9 :the list of elements is [0.37426940957334853, 0.139487861132502, 0.37426940957334853, 0.37426940957334853, 0.37426940957334853, 0.37426940957334853, 0.37426940957334853, 0.37426940957334853] after the query phase\n",
      "Step 9 :the length of the list elements is 1.000 after the query phase\n",
      "\n",
      "Step 9 :the list of elements is [0.3155740224631369, 0.5503555709039835, 0.3155740224631369, 0.3155740224631369, 0.3155740224631369, 0.3155740224631369, 0.3155740224631369, 0.3155740224631369] after the inversion phase\n",
      "Step 9 :the length of the list elements is 1.000 after the inversion phase\n",
      "\n",
      "\n",
      "Step 10 :the list of elements is [0.3155740224631369, -0.5503555709039835, 0.3155740224631369, 0.3155740224631369, 0.3155740224631369, 0.3155740224631369, 0.3155740224631369, 0.3155740224631369] after the query phase\n",
      "Step 10 :the length of the list elements is 1.000 after the query phase\n",
      "\n",
      "Step 10 :the list of elements is [0.09909162412135686, 0.9650212174884772, 0.09909162412135686, 0.09909162412135686, 0.09909162412135686, 0.09909162412135686, 0.09909162412135686, 0.09909162412135686] after the inversion phase\n",
      "Step 10 :the length of the list elements is 1.000 after the inversion phase\n",
      "\n",
      "\n",
      "Step 11 :the list of elements is [0.09909162412135686, -0.9650212174884772, 0.09909162412135686, 0.09909162412135686, 0.09909162412135686, 0.09909162412135686, 0.09909162412135686, 0.09909162412135686] after the query phase\n",
      "Step 11 :the length of the list elements is 1.000 after the query phase\n",
      "\n",
      "Step 11 :the list of elements is [-0.16693658628110164, 0.8971762553287325, -0.16693658628110164, -0.16693658628110164, -0.16693658628110164, -0.16693658628110164, -0.16693658628110164, -0.16693658628110164] after the inversion phase\n",
      "Step 11 :the length of the list elements is 1.000 after the inversion phase\n",
      "\n",
      "\n",
      "Step 12 :the list of elements is [-0.16693658628110164, -0.8971762553287325, -0.16693658628110164, -0.16693658628110164, -0.16693658628110164, -0.16693658628110164, -0.16693658628110164, -0.16693658628110164] after the query phase\n",
      "Step 12 :the length of the list elements is 1.000 after the query phase\n",
      "\n",
      "Step 12 :the list of elements is [-0.3494965035430093, 0.3807431655046215, -0.3494965035430093, -0.3494965035430093, -0.3494965035430093, -0.3494965035430093, -0.3494965035430093, -0.3494965035430093] after the inversion phase\n",
      "Step 12 :the length of the list elements is 1.000 after the inversion phase\n",
      "\n",
      "\n",
      "Step 13 :the list of elements is [-0.3494965035430093, -0.3807431655046215, -0.3494965035430093, -0.3494965035430093, -0.3494965035430093, -0.3494965035430093, -0.3494965035430093, -0.3494965035430093] after the query phase\n",
      "Step 13 :the length of the list elements is 1.000 after the query phase\n",
      "\n",
      "Step 13 :the list of elements is [-0.35730816903341234, -0.32606150707180015, -0.35730816903341234, -0.35730816903341234, -0.35730816903341234, -0.35730816903341234, -0.35730816903341234, -0.35730816903341234] after the inversion phase\n",
      "Step 13 :the length of the list elements is 1.000 after the inversion phase\n",
      "\n",
      "\n",
      "Step 14 :the list of elements is [-0.35730816903341234, 0.32606150707180015, -0.35730816903341234, -0.35730816903341234, -0.35730816903341234, -0.35730816903341234, -0.35730816903341234, -0.35730816903341234] after the query phase\n",
      "Step 14 :the length of the list elements is 1.000 after the query phase\n",
      "\n",
      "Step 14 :the list of elements is [-0.1864657500071092, -0.8698354261123217, -0.1864657500071092, -0.1864657500071092, -0.1864657500071092, -0.1864657500071092, -0.1864657500071092, -0.1864657500071092] after the inversion phase\n",
      "Step 14 :the length of the list elements is 1.000 after the inversion phase\n",
      "\n",
      "\n",
      "Step 15 :the list of elements is [-0.1864657500071092, 0.8698354261123217, -0.1864657500071092, -0.1864657500071092, -0.1864657500071092, -0.1864657500071092, -0.1864657500071092, -0.1864657500071092] after the query phase\n",
      "Step 15 :the length of the list elements is 1.000 after the query phase\n",
      "\n",
      "Step 15 :the list of elements is [0.07760954402274854, -0.9786916320966824, 0.07760954402274854, 0.07760954402274854, 0.07760954402274854, 0.07760954402274854, 0.07760954402274854, 0.07760954402274854] after the inversion phase\n",
      "Step 15 :the length of the list elements is 1.000 after the inversion phase\n",
      "\n",
      "\n",
      "Step 16 :the list of elements is [0.07760954402274854, 0.9786916320966824, 0.07760954402274854, 0.07760954402274854, 0.07760954402274854, 0.07760954402274854, 0.07760954402274854, 0.07760954402274854] after the query phase\n",
      "Step 16 :the length of the list elements is 1.000 after the query phase\n",
      "\n",
      "Step 16 :the list of elements is [0.30288006604123185, -0.598202022032702, 0.30288006604123185, 0.30288006604123185, 0.30288006604123185, 0.30288006604123185, 0.30288006604123185, 0.30288006604123185] after the inversion phase\n",
      "Step 16 :the length of the list elements is 1.000 after the inversion phase\n",
      "\n",
      "\n",
      "Step 17 :the list of elements is [0.30288006604123185, 0.598202022032702, 0.30288006604123185, 0.30288006604123185, 0.30288006604123185, 0.30288006604123185, 0.30288006604123185, 0.30288006604123185] after the query phase\n",
      "Step 17 :the length of the list elements is 1.000 after the query phase\n",
      "\n",
      "Step 17 :the list of elements is [0.37671055503909945, 0.0813885990476293, 0.37671055503909945, 0.37671055503909945, 0.37671055503909945, 0.37671055503909945, 0.37671055503909945, 0.37671055503909945] after the inversion phase\n",
      "Step 17 :the length of the list elements is 1.000 after the inversion phase\n",
      "\n",
      "\n",
      "Step 18 :the list of elements is [0.37671055503909945, -0.0813885990476293, 0.37671055503909945, 0.37671055503909945, 0.37671055503909945, 0.37671055503909945, 0.37671055503909945, 0.37671055503909945] after the query phase\n",
      "Step 18 :the length of the list elements is 1.000 after the query phase\n",
      "\n",
      "Step 18 :the list of elements is [0.2621857665174172, 0.720284920604146, 0.2621857665174172, 0.2621857665174172, 0.2621857665174172, 0.2621857665174172, 0.2621857665174172, 0.2621857665174172] after the inversion phase\n",
      "Step 18 :the length of the list elements is 1.000 after the inversion phase\n",
      "\n",
      "\n",
      "Step 19 :the list of elements is [0.2621857665174172, -0.720284920604146, 0.2621857665174172, 0.2621857665174172, 0.2621857665174172, 0.2621857665174172, 0.2621857665174172, 0.2621857665174172] after the query phase\n",
      "Step 19 :the length of the list elements is 1.000 after the query phase\n",
      "\n",
      "Step 19 :the list of elements is [0.016568094737026418, 0.9990387818585895, 0.016568094737026418, 0.016568094737026418, 0.016568094737026418, 0.016568094737026418, 0.016568094737026418, 0.016568094737026418] after the inversion phase\n",
      "Step 19 :the length of the list elements is 1.000 after the inversion phase\n",
      "\n",
      "\n",
      "Step 20 :the list of elements is [0.016568094737026418, -0.9990387818585895, 0.016568094737026418, 0.016568094737026418, 0.016568094737026418, 0.016568094737026418, 0.016568094737026418, 0.016568094737026418] after the query phase\n",
      "Step 20 :the length of the list elements is 1.000 after the query phase\n",
      "\n",
      "Step 20 :the list of elements is [-0.23733362441187766, 0.7782732521837383, -0.23733362441187766, -0.23733362441187766, -0.23733362441187766, -0.23733362441187766, -0.23733362441187766, -0.23733362441187766] after the inversion phase\n",
      "Step 20 :the length of the list elements is 1.000 after the inversion phase\n",
      "\n",
      "\n"
     ]
    }
   ],
   "source": [
    "from matplotlib.pyplot import bar\n",
    "\n",
    "# define the list of size 8 on which each element has value of 1\n",
    "elements = []\n",
    "for i in range(8):\n",
    "    elements  = elements + [1/(8**0.5)]\n",
    "\n",
    "# index of the marked element\n",
    "marked_elements = [1]\n",
    "    \n",
    "# define the list of iterations\n",
    "iterations = []\n",
    "# the list storing the values of the 4th element after each step\n",
    "L = []\n",
    "\n",
    "# the first values\n",
    "iterations.append(0)\n",
    "L.append(elements[marked_elements[0]])\n",
    "\n",
    "for step in range(20):\n",
    "    # store the iteration\n",
    "    iterations.append(step+1)\n",
    "    query(elements,marked_elements)\n",
    "    suma=0\n",
    "    for i in range(len(elements)):\n",
    "        suma+=elements[i]**2\n",
    "    print('Step',step+1,':the list of elements is',elements,'after the query phase')\n",
    "    print('Step',step+1,':the length of the list elements is %.3f'% suma**0.5,'after the query phase')\n",
    "    print()\n",
    "    inversion (elements)\n",
    "    suma=0\n",
    "    for i in range(len(elements)):\n",
    "        suma+=elements[i]**2\n",
    "    print('Step',step+1,':the list of elements is',elements,'after the inversion phase')\n",
    "    print('Step',step+1,':the length of the list elements is %.3f'% suma**0.5,'after the inversion phase')\n",
    "    print()\n",
    "    print()\n",
    "# visualize the values of the 4th elements after each iterations\n",
    "#bar(iterations,L)"
   ]
  },
  {
   "cell_type": "markdown",
   "metadata": {},
   "source": [
    "<a href=\"Q84_Inversion_About_the_Mean_Solutions.ipynb#task8\">click for our solution</a>"
   ]
  },
  {
   "cell_type": "markdown",
   "metadata": {},
   "source": [
    "<h3> Task 9</h3>\n",
    "\n",
    "Repeat Task 8 for $ N = 16 $ where the first 12 elements are marked."
   ]
  },
  {
   "cell_type": "code",
   "execution_count": 37,
   "metadata": {},
   "outputs": [
    {
     "name": "stdout",
     "output_type": "stream",
     "text": [
      "Step 1 :the list of elements is [-0.25, -0.25, -0.25, -0.25, -0.25, -0.25, -0.25, -0.25, -0.25, -0.25, -0.25, -0.25, 0.25, 0.25, 0.25, 0.25] after the query phase\n",
      "Step 1 :the length of the list elements is 1.000 after the query phase\n",
      "\n",
      "Step 1 :the list of elements is [0.0, 0.0, 0.0, 0.0, 0.0, 0.0, 0.0, 0.0, 0.0, 0.0, 0.0, 0.0, -0.5, -0.5, -0.5, -0.5] after the inversion phase\n",
      "Step 1 :the length of the list elements is 1.000 after the inversion phase\n",
      "\n",
      "\n",
      "Step 2 :the list of elements is [-0.0, -0.0, -0.0, -0.0, -0.0, -0.0, -0.0, -0.0, -0.0, -0.0, -0.0, -0.0, -0.5, -0.5, -0.5, -0.5] after the query phase\n",
      "Step 2 :the length of the list elements is 1.000 after the query phase\n",
      "\n",
      "Step 2 :the list of elements is [-0.25, -0.25, -0.25, -0.25, -0.25, -0.25, -0.25, -0.25, -0.25, -0.25, -0.25, -0.25, 0.25, 0.25, 0.25, 0.25] after the inversion phase\n",
      "Step 2 :the length of the list elements is 1.000 after the inversion phase\n",
      "\n",
      "\n",
      "Step 3 :the list of elements is [0.25, 0.25, 0.25, 0.25, 0.25, 0.25, 0.25, 0.25, 0.25, 0.25, 0.25, 0.25, 0.25, 0.25, 0.25, 0.25] after the query phase\n",
      "Step 3 :the length of the list elements is 1.000 after the query phase\n",
      "\n",
      "Step 3 :the list of elements is [0.25, 0.25, 0.25, 0.25, 0.25, 0.25, 0.25, 0.25, 0.25, 0.25, 0.25, 0.25, 0.25, 0.25, 0.25, 0.25] after the inversion phase\n",
      "Step 3 :the length of the list elements is 1.000 after the inversion phase\n",
      "\n",
      "\n",
      "Step 4 :the list of elements is [-0.25, -0.25, -0.25, -0.25, -0.25, -0.25, -0.25, -0.25, -0.25, -0.25, -0.25, -0.25, 0.25, 0.25, 0.25, 0.25] after the query phase\n",
      "Step 4 :the length of the list elements is 1.000 after the query phase\n",
      "\n",
      "Step 4 :the list of elements is [0.0, 0.0, 0.0, 0.0, 0.0, 0.0, 0.0, 0.0, 0.0, 0.0, 0.0, 0.0, -0.5, -0.5, -0.5, -0.5] after the inversion phase\n",
      "Step 4 :the length of the list elements is 1.000 after the inversion phase\n",
      "\n",
      "\n",
      "Step 5 :the list of elements is [-0.0, -0.0, -0.0, -0.0, -0.0, -0.0, -0.0, -0.0, -0.0, -0.0, -0.0, -0.0, -0.5, -0.5, -0.5, -0.5] after the query phase\n",
      "Step 5 :the length of the list elements is 1.000 after the query phase\n",
      "\n",
      "Step 5 :the list of elements is [-0.25, -0.25, -0.25, -0.25, -0.25, -0.25, -0.25, -0.25, -0.25, -0.25, -0.25, -0.25, 0.25, 0.25, 0.25, 0.25] after the inversion phase\n",
      "Step 5 :the length of the list elements is 1.000 after the inversion phase\n",
      "\n",
      "\n",
      "Step 6 :the list of elements is [0.25, 0.25, 0.25, 0.25, 0.25, 0.25, 0.25, 0.25, 0.25, 0.25, 0.25, 0.25, 0.25, 0.25, 0.25, 0.25] after the query phase\n",
      "Step 6 :the length of the list elements is 1.000 after the query phase\n",
      "\n",
      "Step 6 :the list of elements is [0.25, 0.25, 0.25, 0.25, 0.25, 0.25, 0.25, 0.25, 0.25, 0.25, 0.25, 0.25, 0.25, 0.25, 0.25, 0.25] after the inversion phase\n",
      "Step 6 :the length of the list elements is 1.000 after the inversion phase\n",
      "\n",
      "\n",
      "Step 7 :the list of elements is [-0.25, -0.25, -0.25, -0.25, -0.25, -0.25, -0.25, -0.25, -0.25, -0.25, -0.25, -0.25, 0.25, 0.25, 0.25, 0.25] after the query phase\n",
      "Step 7 :the length of the list elements is 1.000 after the query phase\n",
      "\n",
      "Step 7 :the list of elements is [0.0, 0.0, 0.0, 0.0, 0.0, 0.0, 0.0, 0.0, 0.0, 0.0, 0.0, 0.0, -0.5, -0.5, -0.5, -0.5] after the inversion phase\n",
      "Step 7 :the length of the list elements is 1.000 after the inversion phase\n",
      "\n",
      "\n",
      "Step 8 :the list of elements is [-0.0, -0.0, -0.0, -0.0, -0.0, -0.0, -0.0, -0.0, -0.0, -0.0, -0.0, -0.0, -0.5, -0.5, -0.5, -0.5] after the query phase\n",
      "Step 8 :the length of the list elements is 1.000 after the query phase\n",
      "\n",
      "Step 8 :the list of elements is [-0.25, -0.25, -0.25, -0.25, -0.25, -0.25, -0.25, -0.25, -0.25, -0.25, -0.25, -0.25, 0.25, 0.25, 0.25, 0.25] after the inversion phase\n",
      "Step 8 :the length of the list elements is 1.000 after the inversion phase\n",
      "\n",
      "\n",
      "Step 9 :the list of elements is [0.25, 0.25, 0.25, 0.25, 0.25, 0.25, 0.25, 0.25, 0.25, 0.25, 0.25, 0.25, 0.25, 0.25, 0.25, 0.25] after the query phase\n",
      "Step 9 :the length of the list elements is 1.000 after the query phase\n",
      "\n",
      "Step 9 :the list of elements is [0.25, 0.25, 0.25, 0.25, 0.25, 0.25, 0.25, 0.25, 0.25, 0.25, 0.25, 0.25, 0.25, 0.25, 0.25, 0.25] after the inversion phase\n",
      "Step 9 :the length of the list elements is 1.000 after the inversion phase\n",
      "\n",
      "\n",
      "Step 10 :the list of elements is [-0.25, -0.25, -0.25, -0.25, -0.25, -0.25, -0.25, -0.25, -0.25, -0.25, -0.25, -0.25, 0.25, 0.25, 0.25, 0.25] after the query phase\n",
      "Step 10 :the length of the list elements is 1.000 after the query phase\n",
      "\n",
      "Step 10 :the list of elements is [0.0, 0.0, 0.0, 0.0, 0.0, 0.0, 0.0, 0.0, 0.0, 0.0, 0.0, 0.0, -0.5, -0.5, -0.5, -0.5] after the inversion phase\n",
      "Step 10 :the length of the list elements is 1.000 after the inversion phase\n",
      "\n",
      "\n",
      "Step 11 :the list of elements is [-0.0, -0.0, -0.0, -0.0, -0.0, -0.0, -0.0, -0.0, -0.0, -0.0, -0.0, -0.0, -0.5, -0.5, -0.5, -0.5] after the query phase\n",
      "Step 11 :the length of the list elements is 1.000 after the query phase\n",
      "\n",
      "Step 11 :the list of elements is [-0.25, -0.25, -0.25, -0.25, -0.25, -0.25, -0.25, -0.25, -0.25, -0.25, -0.25, -0.25, 0.25, 0.25, 0.25, 0.25] after the inversion phase\n",
      "Step 11 :the length of the list elements is 1.000 after the inversion phase\n",
      "\n",
      "\n",
      "Step 12 :the list of elements is [0.25, 0.25, 0.25, 0.25, 0.25, 0.25, 0.25, 0.25, 0.25, 0.25, 0.25, 0.25, 0.25, 0.25, 0.25, 0.25] after the query phase\n",
      "Step 12 :the length of the list elements is 1.000 after the query phase\n",
      "\n",
      "Step 12 :the list of elements is [0.25, 0.25, 0.25, 0.25, 0.25, 0.25, 0.25, 0.25, 0.25, 0.25, 0.25, 0.25, 0.25, 0.25, 0.25, 0.25] after the inversion phase\n",
      "Step 12 :the length of the list elements is 1.000 after the inversion phase\n",
      "\n",
      "\n",
      "Step 13 :the list of elements is [-0.25, -0.25, -0.25, -0.25, -0.25, -0.25, -0.25, -0.25, -0.25, -0.25, -0.25, -0.25, 0.25, 0.25, 0.25, 0.25] after the query phase\n",
      "Step 13 :the length of the list elements is 1.000 after the query phase\n",
      "\n",
      "Step 13 :the list of elements is [0.0, 0.0, 0.0, 0.0, 0.0, 0.0, 0.0, 0.0, 0.0, 0.0, 0.0, 0.0, -0.5, -0.5, -0.5, -0.5] after the inversion phase\n",
      "Step 13 :the length of the list elements is 1.000 after the inversion phase\n",
      "\n",
      "\n",
      "Step 14 :the list of elements is [-0.0, -0.0, -0.0, -0.0, -0.0, -0.0, -0.0, -0.0, -0.0, -0.0, -0.0, -0.0, -0.5, -0.5, -0.5, -0.5] after the query phase\n",
      "Step 14 :the length of the list elements is 1.000 after the query phase\n",
      "\n",
      "Step 14 :the list of elements is [-0.25, -0.25, -0.25, -0.25, -0.25, -0.25, -0.25, -0.25, -0.25, -0.25, -0.25, -0.25, 0.25, 0.25, 0.25, 0.25] after the inversion phase\n",
      "Step 14 :the length of the list elements is 1.000 after the inversion phase\n",
      "\n",
      "\n",
      "Step 15 :the list of elements is [0.25, 0.25, 0.25, 0.25, 0.25, 0.25, 0.25, 0.25, 0.25, 0.25, 0.25, 0.25, 0.25, 0.25, 0.25, 0.25] after the query phase\n",
      "Step 15 :the length of the list elements is 1.000 after the query phase\n",
      "\n",
      "Step 15 :the list of elements is [0.25, 0.25, 0.25, 0.25, 0.25, 0.25, 0.25, 0.25, 0.25, 0.25, 0.25, 0.25, 0.25, 0.25, 0.25, 0.25] after the inversion phase\n",
      "Step 15 :the length of the list elements is 1.000 after the inversion phase\n",
      "\n",
      "\n",
      "Step 16 :the list of elements is [-0.25, -0.25, -0.25, -0.25, -0.25, -0.25, -0.25, -0.25, -0.25, -0.25, -0.25, -0.25, 0.25, 0.25, 0.25, 0.25] after the query phase\n",
      "Step 16 :the length of the list elements is 1.000 after the query phase\n",
      "\n",
      "Step 16 :the list of elements is [0.0, 0.0, 0.0, 0.0, 0.0, 0.0, 0.0, 0.0, 0.0, 0.0, 0.0, 0.0, -0.5, -0.5, -0.5, -0.5] after the inversion phase\n",
      "Step 16 :the length of the list elements is 1.000 after the inversion phase\n",
      "\n",
      "\n",
      "Step 17 :the list of elements is [-0.0, -0.0, -0.0, -0.0, -0.0, -0.0, -0.0, -0.0, -0.0, -0.0, -0.0, -0.0, -0.5, -0.5, -0.5, -0.5] after the query phase\n",
      "Step 17 :the length of the list elements is 1.000 after the query phase\n",
      "\n",
      "Step 17 :the list of elements is [-0.25, -0.25, -0.25, -0.25, -0.25, -0.25, -0.25, -0.25, -0.25, -0.25, -0.25, -0.25, 0.25, 0.25, 0.25, 0.25] after the inversion phase\n",
      "Step 17 :the length of the list elements is 1.000 after the inversion phase\n",
      "\n",
      "\n",
      "Step 18 :the list of elements is [0.25, 0.25, 0.25, 0.25, 0.25, 0.25, 0.25, 0.25, 0.25, 0.25, 0.25, 0.25, 0.25, 0.25, 0.25, 0.25] after the query phase\n",
      "Step 18 :the length of the list elements is 1.000 after the query phase\n",
      "\n",
      "Step 18 :the list of elements is [0.25, 0.25, 0.25, 0.25, 0.25, 0.25, 0.25, 0.25, 0.25, 0.25, 0.25, 0.25, 0.25, 0.25, 0.25, 0.25] after the inversion phase\n",
      "Step 18 :the length of the list elements is 1.000 after the inversion phase\n",
      "\n",
      "\n",
      "Step 19 :the list of elements is [-0.25, -0.25, -0.25, -0.25, -0.25, -0.25, -0.25, -0.25, -0.25, -0.25, -0.25, -0.25, 0.25, 0.25, 0.25, 0.25] after the query phase\n",
      "Step 19 :the length of the list elements is 1.000 after the query phase\n",
      "\n",
      "Step 19 :the list of elements is [0.0, 0.0, 0.0, 0.0, 0.0, 0.0, 0.0, 0.0, 0.0, 0.0, 0.0, 0.0, -0.5, -0.5, -0.5, -0.5] after the inversion phase\n",
      "Step 19 :the length of the list elements is 1.000 after the inversion phase\n",
      "\n",
      "\n",
      "Step 20 :the list of elements is [-0.0, -0.0, -0.0, -0.0, -0.0, -0.0, -0.0, -0.0, -0.0, -0.0, -0.0, -0.0, -0.5, -0.5, -0.5, -0.5] after the query phase\n",
      "Step 20 :the length of the list elements is 1.000 after the query phase\n",
      "\n",
      "Step 20 :the list of elements is [-0.25, -0.25, -0.25, -0.25, -0.25, -0.25, -0.25, -0.25, -0.25, -0.25, -0.25, -0.25, 0.25, 0.25, 0.25, 0.25] after the inversion phase\n",
      "Step 20 :the length of the list elements is 1.000 after the inversion phase\n",
      "\n",
      "\n"
     ]
    }
   ],
   "source": [
    "from matplotlib.pyplot import bar\n",
    "\n",
    "# define the list of size 8 on which each element has value of 1\n",
    "elements = []\n",
    "for i in range(16):\n",
    "    elements  = elements + [1/(16**0.5)]\n",
    "\n",
    "# index of the marked element\n",
    "marked_elements =[]\n",
    "for i in range(12):\n",
    "    marked_elements.append(i)\n",
    "    \n",
    "# define the list of iterations\n",
    "iterations = []\n",
    "# the list storing the values of the 4th element after each step\n",
    "L = []\n",
    "\n",
    "# the first values\n",
    "iterations.append(0)\n",
    "L.append(elements[marked_elements[0]])\n",
    "\n",
    "for step in range(20):\n",
    "    # store the iteration\n",
    "    iterations.append(step+1)\n",
    "    query(elements,marked_elements)\n",
    "    suma=0\n",
    "    for i in range(len(elements)):\n",
    "        suma+=elements[i]**2\n",
    "    print('Step',step+1,':the list of elements is',elements,'after the query phase')\n",
    "    print('Step',step+1,':the length of the list elements is %.3f'% suma**0.5,'after the query phase')\n",
    "    print()\n",
    "    inversion (elements)\n",
    "    suma=0\n",
    "    for i in range(len(elements)):\n",
    "        suma+=elements[i]**2\n",
    "    print('Step',step+1,':the list of elements is',elements,'after the inversion phase')\n",
    "    print('Step',step+1,':the length of the list elements is %.3f'% suma**0.5,'after the inversion phase')\n",
    "    print()\n",
    "    print()\n",
    "# visualize the values of the 4th elements after each iterations\n",
    "#bar(iterations,L)"
   ]
  },
  {
   "cell_type": "markdown",
   "metadata": {},
   "source": [
    "<a href=\"Q84_Inversion_About_the_Mean_Solutions.ipynb#task9\">click for our solution</a>"
   ]
  },
  {
   "cell_type": "markdown",
   "metadata": {},
   "source": [
    "## Grover's quantum search algorithm\n",
    "\n",
    "The modified game is the main part of Grover's quantum search algorithm.\n",
    "\n",
    "Suppose that we are given an unordered list and we make a search of a specific element called as marked.\n",
    "- We access the list via an oracle: we can make queries to the list.\n",
    "- If there are $ N $ elements in the list, we use $ \\log(N) $ qubits. (Assume that $N$ is a power of 2.) \n",
    "- Each basis state, i.e., $ \\ket{0 \\cdots 0}, \\ldots, \\ket{1 \\cdots 1} $, corresponds to an index of the list.\n",
    "- If the searched element is detected, then the oracle flips the sign of the corresponding amplitude.\n",
    "\n",
    "<i style=\"color:blue;\">Remark that, in the above games, we simulate the oracle with the pre-knowledge of marked element(s). In the real implementation, the oracle should have a quantum mechanism detecting the marked elements while being in a superposition of all indices, and then the sign(s) of the corresponding amplitude(s) is (are) flipped automatically. This is indeed the main technological challenge for implementing Grover's search algorithm.</i>\n",
    "\n",
    "At the beginning, Hadamard operator is applied to each qubit. Thus, the amplitude of each basis state is set to $ \\frac{1}{\\sqrt{N}} $.\n",
    "- We can interpret this as all elements start the game with the same amplitude.\n",
    "- Then, the game starts to iterate, and the amplitudes of marked and unmarked elements are changed."
   ]
  },
  {
   "cell_type": "markdown",
   "metadata": {},
   "source": [
    "<h4> The number of iterations </h4>\n",
    "\n",
    "When the number of marked elements are less than the unmarked elements, the amplitudes of marked elements start to increase. \n",
    "\n",
    "Then, we reach the first peak such that the probability of observing a marked element takes its maximum value. \n",
    "\n",
    "After passing this point, the amplitudes of marked elements start to decrease."
   ]
  },
  {
   "cell_type": "markdown",
   "metadata": {},
   "source": [
    "<h4> Phases </h4>\n",
    "\n",
    "The operator in each phase is unitary (linear).\n",
    "\n",
    "The unitary matrix in the query phase depends on the input, but the unitary operator in the inversion phase does not depend on the input.\n",
    "\n",
    "<b>In the query phase</b>, the amplitudes of the marked elements change sign.  \n",
    "\n",
    "<b>In the inversion phase</b>, for each amplitude $ x $, the new value is calculated as $ mean - (x - mean) = 2mean -x $.\n",
    "\n",
    "The mean of a column vector of size $ N $ can be calculated by multiplying it with the following row vector from the left:\n",
    "\n",
    "$$  \\myvector{ \\frac{1}{N} ~~ \\frac{1}{N} ~~ \\cdots ~~ \\frac{1}{N}} . $$\n",
    "\n",
    "\n",
    "When considering all elements in the list, we work with a matrix. The matrix for the second phase should be \n",
    "\n",
    "$$ D = 2 \\mymatrix{ccc}{\n",
    "    \\frac{1}{N}  & \\cdots & \\frac{1}{N} \\\\ \n",
    "    \\vdots & \\ddots & \\vdots \\\\\n",
    "    \\frac{1}{N}  & \\cdots & \\frac{1}{N} \\\\ \n",
    "    } \n",
    "- I . $$"
   ]
  },
  {
   "cell_type": "markdown",
   "metadata": {},
   "source": [
    "<h3> Task 10</h3>\n",
    "\n",
    "Convince yourself that $ D \\myvector{x_1 \\\\ \\vdots \\\\ x_N} = \\myvector{ 2m-x_1 \\\\ \\vdots \\\\ 2m-x_N } $, where $ m = \\dfrac{ \\sum_{i=1}^N x_i } { N} $."
   ]
  },
  {
   "cell_type": "markdown",
   "metadata": {},
   "source": [
    "<h3> Task 11</h3>\n",
    "\n",
    "Let $ A =  \\mymatrix{ccc}{\n",
    "    \\frac{1}{N}  & \\cdots & \\frac{1}{N} \\\\ \n",
    "    \\vdots & \\ddots & \\vdots \\\\\n",
    "    \\frac{1}{N}  & \\cdots & \\frac{1}{N} \\\\ \n",
    "    }  $. \n",
    "Convince yourself that $ A^2 = A $ and $ D^T = D $.\n",
    "\n",
    "Since $ D = 2A - I $, convince yourself that $ D $ is unitary by showing that $ D^T \\cdot D = I $, i.e., $ (2A-I)(2A-I) = I $."
   ]
  },
  {
   "cell_type": "markdown",
   "metadata": {},
   "source": [
    "## General form of Grover's search algorithm\n",
    "\n",
    "Let's assume that there are $N=2^n$ elements in a list $L$, and one of the elements is marked. \n",
    "\n",
    "Suppose that there exists a function $f$ whose domain is $L$ with the following properties:\n",
    "\\begin{align*}\n",
    "f(x)&=1 &\\mbox{ if $x$ is marked}\\\\\n",
    "f(x)&=0 &\\mbox{ otherwise}\n",
    "\\end{align*}\n",
    "\n",
    "Grover's algorithm can also be defined in more general form: for the given function $f$, it finds the element $x$ such that $f(x)=1$.\n",
    "\n",
    "_Do you see how does this correspond to finding the marked element?_"
   ]
  },
  {
   "cell_type": "markdown",
   "metadata": {},
   "source": [
    "We access the list by querying $f$, which will be called the <font color=\"blue\">oracle</font>.\n",
    "\n",
    "Normally, in the worst case you would have to query $f$ for all possible inputs to find $x$ satisfying $f(x)=1$ which has <font color=\"blue\"> query complexity </font>$O(N)$. \n",
    "\n",
    "Grover's algorithm is able to perform the same task only with $O(\\sqrt{N})$ queries.\n",
    "\n",
    "(<i>$O(N)$ is Big O notation. Please check the definition if you are seeing it for the first time.</i>)\n",
    "\n",
    "**Remark:** The algorithm works if there are multiple marked elements but we assume that only 1 element is marked for simplicity."
   ]
  },
  {
   "cell_type": "markdown",
   "metadata": {},
   "source": [
    "### Example\n",
    "\n",
    "Grover's algorithm is not restricted to a list. You can apply it to any search space as long as you can construct such a function $f$. Consider the picture below. A, B, C and D are the cities and the numbers represent the distance between them.\n",
    "\n",
    "<img src=\"images/tsp.png\" width=\"300\">\n",
    "\n",
    "**Question:** <i>Starting in A, does there exist a path of distance < 900 which visits all cities exactly once and returns to A?</i>\n",
    "\n",
    "This is known as the decision version of Traveling Salesman Problem. In this example the search space consists of all possible routes such as ABDCA, ACBDA, ABCDA etc. and our aim is to find the route whose total distance is < 900.\n",
    "\n",
    "Check ABCDA. The total distance is 800 which satisfies the condition. If you want to design $f$ for this problem, $f(\\text{ABCDA})=1$ and $f(x)=0$ for all other routes. \n",
    "\n",
    "**How can you construct such an $f$ ?** \n",
    "\n",
    "Add the distances between each pair of cities and output 1 if the total distance is less than 900 and 0 otherwise. Note that we don't need to know anything about the solution to implement $f$.\n",
    "\n",
    "Of course you should be able to design such an $f$ in the quantum setting if you want to apply Grover's Search and it is not always an easy task. \n",
    "\n",
    "**How does Grover's Search help in this problem?** \n",
    "\n",
    "Checking all routes one by one is a long procedure. But given a route, you can easily check if the total distance satisfies the condition. Instead of checking all routes one by one and querying $f$ for each route, it is enough to make square root queries if you use Grover's Search.\n",
    "\n",
    "Check this [link](https://github.com/quantum-challenge/2019/blob/master/problems/final/Final_en.ipynb) to see another example."
   ]
  }
 ],
 "metadata": {
  "kernelspec": {
   "display_name": "Python 3 (ipykernel)",
   "language": "python",
   "name": "python3"
  },
  "language_info": {
   "codemirror_mode": {
    "name": "ipython",
    "version": 3
   },
   "file_extension": ".py",
   "mimetype": "text/x-python",
   "name": "python",
   "nbconvert_exporter": "python",
   "pygments_lexer": "ipython3",
   "version": "3.7.4"
  }
 },
 "nbformat": 4,
 "nbformat_minor": 2
}
