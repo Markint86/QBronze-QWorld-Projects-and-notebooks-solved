{
 "cells": [
  {
   "cell_type": "markdown",
   "metadata": {},
   "source": [
    "<a href=\"https://qworld.net\" target=\"_blank\" align=\"left\"><img src=\"../qworld/images/header.jpg\"  align=\"left\"></a>\n",
    "$ \\newcommand{\\bra}[1]{\\langle #1|} $\n",
    "$ \\newcommand{\\ket}[1]{|#1\\rangle} $\n",
    "$ \\newcommand{\\braket}[2]{\\langle #1|#2\\rangle} $\n",
    "$ \\newcommand{\\dot}[2]{ #1 \\cdot #2} $\n",
    "$ \\newcommand{\\biginner}[2]{\\left\\langle #1,#2\\right\\rangle} $\n",
    "$ \\newcommand{\\mymatrix}[2]{\\left( \\begin{array}{#1} #2\\end{array} \\right)} $\n",
    "$ \\newcommand{\\myvector}[1]{\\mymatrix{c}{#1}} $\n",
    "$ \\newcommand{\\myrvector}[1]{\\mymatrix{r}{#1}} $\n",
    "$ \\newcommand{\\mypar}[1]{\\left( #1 \\right)} $\n",
    "$ \\newcommand{\\mybigpar}[1]{ \\Big( #1 \\Big)} $\n",
    "$ \\newcommand{\\sqrttwo}{\\frac{1}{\\sqrt{2}}} $\n",
    "$ \\newcommand{\\dsqrttwo}{\\dfrac{1}{\\sqrt{2}}} $\n",
    "$ \\newcommand{\\onehalf}{\\frac{1}{2}} $\n",
    "$ \\newcommand{\\donehalf}{\\dfrac{1}{2}} $\n",
    "$ \\newcommand{\\hadamard}{ \\mymatrix{rr}{ \\sqrttwo & \\sqrttwo \\\\ \\sqrttwo & -\\sqrttwo }} $\n",
    "$ \\newcommand{\\vzero}{\\myvector{1\\\\0}} $\n",
    "$ \\newcommand{\\vone}{\\myvector{0\\\\1}} $\n",
    "$ \\newcommand{\\stateplus}{\\myvector{ \\sqrttwo \\\\  \\sqrttwo } } $\n",
    "$ \\newcommand{\\stateminus}{ \\myrvector{ \\sqrttwo \\\\ -\\sqrttwo } } $\n",
    "$ \\newcommand{\\myarray}[2]{ \\begin{array}{#1}#2\\end{array}} $\n",
    "$ \\newcommand{\\X}{ \\mymatrix{cc}{0 & 1 \\\\ 1 & 0}  } $\n",
    "$ \\newcommand{\\I}{ \\mymatrix{rr}{1 & 0 \\\\ 0 & 1}  } $\n",
    "$ \\newcommand{\\Z}{ \\mymatrix{rr}{1 & 0 \\\\ 0 & -1}  } $\n",
    "$ \\newcommand{\\Htwo}{ \\mymatrix{rrrr}{ \\frac{1}{2} & \\frac{1}{2} & \\frac{1}{2} & \\frac{1}{2} \\\\ \\frac{1}{2} & -\\frac{1}{2} & \\frac{1}{2} & -\\frac{1}{2} \\\\ \\frac{1}{2} & \\frac{1}{2} & -\\frac{1}{2} & -\\frac{1}{2} \\\\ \\frac{1}{2} & -\\frac{1}{2} & -\\frac{1}{2} & \\frac{1}{2} } } $\n",
    "$ \\newcommand{\\CNOT}{ \\mymatrix{cccc}{1 & 0 & 0 & 0 \\\\ 0 & 1 & 0 & 0 \\\\ 0 & 0 & 0 & 1 \\\\ 0 & 0 & 1 & 0} } $\n",
    "$ \\newcommand{\\norm}[1]{ \\left\\lVert #1 \\right\\rVert } $\n",
    "$ \\newcommand{\\pstate}[1]{ \\lceil \\mspace{-1mu} #1 \\mspace{-1.5mu} \\rfloor } $\n",
    "$ \\newcommand{\\greenbit}[1] {\\mathbf{{\\color{green}#1}}} $\n",
    "$ \\newcommand{\\bluebit}[1] {\\mathbf{{\\color{blue}#1}}} $\n",
    "$ \\newcommand{\\redbit}[1] {\\mathbf{{\\color{red}#1}}} $\n",
    "$ \\newcommand{\\brownbit}[1] {\\mathbf{{\\color{brown}#1}}} $\n",
    "$ \\newcommand{\\blackbit}[1] {\\mathbf{{\\color{black}#1}}} $"
   ]
  },
  {
   "cell_type": "markdown",
   "metadata": {},
   "source": [
    "<font style=\"font-size:28px;\" align=\"left\"><b> Phase Kickback </b></font>\n",
    "<br>\n",
    "_prepared by Abuzer Yakaryilmaz_\n",
    "<br><br>\n",
    "[<img src=\"../qworld/images/watch_lecture.jpg\" align=\"left\">](https://youtu.be/7H7A9IRPc8s)\n",
    "<br><br><br>"
   ]
  },
  {
   "cell_type": "markdown",
   "metadata": {},
   "source": [
    "We observe another interesting quantum effect here.\n",
    "\n",
    "We apply a Controlled-NOT operator, but the controller qubit will be affected!"
   ]
  },
  {
   "cell_type": "markdown",
   "metadata": {},
   "source": [
    "<h3> Task 1</h3>\n",
    "\n",
    "Create a quantum circuit with two qubits, say $ q[1] $ and $ q[0] $ in the reading order of Qiskit.\n",
    "\n",
    "We start in quantum state $ \\ket{01} $:\n",
    "- set the state of $ q[1] $ to $ \\ket{0} $, and\n",
    "- set the state of $ q[0] $ to $ \\ket{1} $.\n",
    "\n",
    "Apply Hadamard to both qubits.\n",
    "\n",
    "Apply CNOT operator, where the controller qubit is $ q[1] $ and the target qubit is $ q[0] $.\n",
    "\n",
    "Apply Hadamard to both qubits.\n",
    "\n",
    "Measure the outcomes."
   ]
  },
  {
   "cell_type": "code",
   "execution_count": 3,
   "metadata": {},
   "outputs": [
    {
     "name": "stdout",
     "output_type": "stream",
     "text": [
      "{'11': 1024}\n"
     ]
    }
   ],
   "source": [
    "# import all necessary objects and methods for quantum circuits\n",
    "from qiskit import QuantumRegister, ClassicalRegister, QuantumCircuit, execute, Aer\n",
    "qc = QuantumCircuit(2,2)\n",
    "qc.x(0)\n",
    "for i in range(2):\n",
    "    qc.h(i)\n",
    "qc.cx(1,0)\n",
    "for i in range(2):\n",
    "    qc.h(i)\n",
    "\n",
    "for i in range(2):\n",
    "    qc.measure(i,i)\n",
    "qc.draw(output='mpl',reverse_bits=True)\n",
    "job = execute(qc,Aer.get_backend('qasm_simulator'),shots=1024)\n",
    "counts = job.result().get_counts(qc)\n",
    "print(counts)"
   ]
  },
  {
   "cell_type": "markdown",
   "metadata": {},
   "source": [
    "<a href=\"Q64_Phase_Kickback_Solutions.ipynb#task1\">click for our solution</a>"
   ]
  },
  {
   "cell_type": "markdown",
   "metadata": {},
   "source": [
    "<h3> The effect of CNOT </h3>\n",
    "\n",
    "The quantum state of the up qubit before CNOT:\n",
    "\n",
    "$$\n",
    "    \\ket{0} \\xrightarrow{H} \\frac{1}{\\sqrt{2}} \\ket{0} + \\frac{1}{\\sqrt{2}} \\ket{1}.\n",
    "$$\n",
    "\n",
    "The quantum state of the down qubit before CNOT:\n",
    "\n",
    "$$\n",
    "    \\ket{1} \\xrightarrow{H} \\frac{1}{\\sqrt{2}} \\ket{0} - \\frac{1}{\\sqrt{2}} \\ket{1}.\n",
    "$$"
   ]
  },
  {
   "cell_type": "markdown",
   "metadata": {},
   "source": [
    "The quantum state of the composite system:\n",
    "\n",
    "$$\n",
    "   \\mypar{ \\frac{1}{\\sqrt{2}} \\ket{0} + \\frac{1}{\\sqrt{2}} \\ket{1} } \n",
    "   \\otimes\n",
    "   \\mypar{ \\frac{1}{\\sqrt{2}} \\ket{0} - \\frac{1}{\\sqrt{2}} \\ket{1}  }\n",
    "$$"
   ]
  },
  {
   "cell_type": "markdown",
   "metadata": {},
   "source": [
    "CNOT affects when the up qubit has the value 1.\n",
    "\n",
    "Let's rewrite the composite state as below to explicitly represent the effect of CNOT.\n",
    "\n",
    "$$\n",
    "     \\frac{1}{\\sqrt{2}} \\ket{0} \\otimes \\mypar{ \\frac{1}{\\sqrt{2}} \\ket{0} - \\frac{1}{\\sqrt{2}} \\ket{1}  }\n",
    "     +\n",
    "     \\frac{1}{\\sqrt{2}} \\ket{1} \\otimes \\mypar{ \\frac{1}{\\sqrt{2}} \\ket{0} - \\frac{1}{\\sqrt{2}} \\ket{1}  }\n",
    "$$"
   ]
  },
  {
   "cell_type": "markdown",
   "metadata": {},
   "source": [
    "CNOT flips the state of the down qubit.\n",
    "\n",
    "After CNOT, we have:\n",
    "\n",
    "$$\n",
    "     \\frac{1}{\\sqrt{2}} \\ket{0} \\otimes \\mypar{ \\frac{1}{\\sqrt{2}} \\ket{0} - \\frac{1}{\\sqrt{2}} \\ket{1}  }\n",
    "     +\n",
    "     \\frac{1}{\\sqrt{2}} \\ket{1} \\otimes \\mypar{ \\frac{1}{\\sqrt{2}} \\ket{1} - \\frac{1}{\\sqrt{2}} \\ket{0}  }\n",
    "$$\n",
    "\n",
    "Remark that $\\ket{0}$ and $ \\ket{1} $ are swapped in the second qubit.\n",
    "\n",
    "If we write the quantum state of the down qubit as before, the sign of $ \\ket{1} $ in the up qubit should be flipped.\n",
    "\n",
    "Thus the last equation can be equivalently written as follows:\n",
    "\n",
    "$$\n",
    "     \\frac{1}{\\sqrt{2}} \\ket{0} \\otimes \\mypar{ \\frac{1}{\\sqrt{2}} \\ket{0} - \\frac{1}{\\sqrt{2}} \\ket{1}  }\n",
    "     -\n",
    "     \\frac{1}{\\sqrt{2}} \\ket{1} \\otimes \\mypar{ \\frac{1}{\\sqrt{2}} \\ket{0} - \\frac{1}{\\sqrt{2}} \\ket{1}  }\n",
    "$$"
   ]
  },
  {
   "cell_type": "markdown",
   "metadata": {},
   "source": [
    "Before CNOT operator, the sign of $ \\ket{1} $ in the up qubit is positive. \n",
    "    \n",
    "After CNOT operator, its sign changes to negative.\n",
    "\n",
    "This is called <b>phase kickback</b>."
   ]
  },
  {
   "cell_type": "markdown",
   "metadata": {},
   "source": [
    "<h3> After CNOT </h3>\n",
    "\n",
    "It is easy to see from the last expression, that the quantum states of the qubits are separable (no correlation):\n",
    "\n",
    "$$\n",
    "   \\mypar{ \\frac{1}{\\sqrt{2}} \\ket{0} - \\frac{1}{\\sqrt{2}} \\ket{1} } \n",
    "   \\otimes\n",
    "   \\mypar{ \\frac{1}{\\sqrt{2}} \\ket{0} - \\frac{1}{\\sqrt{2}} \\ket{1}  }\n",
    "$$\n",
    "\n",
    "If we apply Hadamard to each qubit, both qubits evolve to state $ \\ket{1} $.\n",
    "\n",
    "The final state is $ \\ket{11} $."
   ]
  },
  {
   "cell_type": "markdown",
   "metadata": {},
   "source": [
    "<h3> Task 2 </h3>\n",
    "\n",
    "Create a circuit  with 7 qubits, say $ q[6],\\ldots,q[0] $ in the reading order of Qiskit.\n",
    "\n",
    "Set the states of the top six qubits to $ \\ket{0} $.\n",
    "\n",
    "Set the state of the bottom qubit to $ \\ket{1} $.\n",
    "\n",
    "Apply Hadamard operators to all qubits.\n",
    "\n",
    "Apply CNOT operator ($q[1]$,$q[0]$) \n",
    "<br>\n",
    "Apply CNOT operator ($q[4]$,$q[0]$) \n",
    "<br>\n",
    "Apply CNOT operator ($q[5]$,$q[0]$) \n",
    "\n",
    "Apply Hadamard operators to all qubits.\n",
    "\n",
    "Measure all qubits. \n",
    "\n",
    "For each CNOT operator, is there a phase-kickback effect?"
   ]
  },
  {
   "cell_type": "code",
   "execution_count": 8,
   "metadata": {},
   "outputs": [
    {
     "data": {
      "image/png": "[encoded data removed]",
      "text/plain": [
       "<Figure size 929.397x505.68 with 1 Axes>"
      ]
     },
     "metadata": {},
     "output_type": "display_data"
    },
    {
     "name": "stdout",
     "output_type": "stream",
     "text": [
      "{'0110011': 1024}\n"
     ]
    }
   ],
   "source": [
    "# import all necessary objects and methods for quantum circuits\n",
    "from qiskit import QuantumRegister, ClassicalRegister, QuantumCircuit, execute, Aer\n",
    "qc = QuantumCircuit(7,7)\n",
    "qc.x(0)\n",
    "for i in range(7):\n",
    "    qc.h(i)\n",
    "qc.cx(1,0)\n",
    "qc.cx(4,0)\n",
    "qc.cx(5,0)\n",
    "for i in range(7):\n",
    "    qc.h(i)\n",
    "for i in range(7):\n",
    "    qc.measure(i,i)\n",
    "display(qc.draw(output='mpl',reverse_bits=True))\n",
    "job = execute(qc,Aer.get_backend('qasm_simulator'),shots=1024)\n",
    "counts = job.result().get_counts(qc)\n",
    "print(counts)\n"
   ]
  },
  {
   "cell_type": "markdown",
   "metadata": {},
   "source": [
    "<a href=\"Q64_Phase_Kickback_Solutions.ipynb#task2\">click for our solution</a>"
   ]
  }
 ],
 "metadata": {
  "kernelspec": {
   "display_name": "Python 3 (ipykernel)",
   "language": "python",
   "name": "python3"
  },
  "language_info": {
   "codemirror_mode": {
    "name": "ipython",
    "version": 3
   },
   "file_extension": ".py",
   "mimetype": "text/x-python",
   "name": "python",
   "nbconvert_exporter": "python",
   "pygments_lexer": "ipython3",
   "version": "3.7.4"
  }
 },
 "nbformat": 4,
 "nbformat_minor": 2
}
