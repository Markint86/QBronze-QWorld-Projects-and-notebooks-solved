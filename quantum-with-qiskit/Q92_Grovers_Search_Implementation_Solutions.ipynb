{
 "cells": [
  {
   "cell_type": "markdown",
   "metadata": {},
   "source": [
    "<a href=\"https://qworld.net\" target=\"_blank\" align=\"left\"><img src=\"../qworld/images/header.jpg\"  align=\"left\"></a>\n",
    "$ \\newcommand{\\bra}[1]{\\langle #1|} $\n",
    "$ \\newcommand{\\ket}[1]{|#1\\rangle} $\n",
    "$ \\newcommand{\\braket}[2]{\\langle #1|#2\\rangle} $\n",
    "$ \\newcommand{\\dot}[2]{ #1 \\cdot #2} $\n",
    "$ \\newcommand{\\biginner}[2]{\\left\\langle #1,#2\\right\\rangle} $\n",
    "$ \\newcommand{\\mymatrix}[2]{\\left( \\begin{array}{#1} #2\\end{array} \\right)} $\n",
    "$ \\newcommand{\\myvector}[1]{\\mymatrix{c}{#1}} $\n",
    "$ \\newcommand{\\myrvector}[1]{\\mymatrix{r}{#1}} $\n",
    "$ \\newcommand{\\mypar}[1]{\\left( #1 \\right)} $\n",
    "$ \\newcommand{\\mybigpar}[1]{ \\Big( #1 \\Big)} $\n",
    "$ \\newcommand{\\sqrttwo}{\\frac{1}{\\sqrt{2}}} $\n",
    "$ \\newcommand{\\dsqrttwo}{\\dfrac{1}{\\sqrt{2}}} $\n",
    "$ \\newcommand{\\onehalf}{\\frac{1}{2}} $\n",
    "$ \\newcommand{\\donehalf}{\\dfrac{1}{2}} $\n",
    "$ \\newcommand{\\hadamard}{ \\mymatrix{rr}{ \\sqrttwo & \\sqrttwo \\\\ \\sqrttwo & -\\sqrttwo }} $\n",
    "$ \\newcommand{\\vzero}{\\myvector{1\\\\0}} $\n",
    "$ \\newcommand{\\vone}{\\myvector{0\\\\1}} $\n",
    "$ \\newcommand{\\stateplus}{\\myvector{ \\sqrttwo \\\\  \\sqrttwo } } $\n",
    "$ \\newcommand{\\stateminus}{ \\myrvector{ \\sqrttwo \\\\ -\\sqrttwo } } $\n",
    "$ \\newcommand{\\myarray}[2]{ \\begin{array}{#1}#2\\end{array}} $\n",
    "$ \\newcommand{\\X}{ \\mymatrix{cc}{0 & 1 \\\\ 1 & 0}  } $\n",
    "$ \\newcommand{\\I}{ \\mymatrix{rr}{1 & 0 \\\\ 0 & 1}  } $\n",
    "$ \\newcommand{\\Z}{ \\mymatrix{rr}{1 & 0 \\\\ 0 & -1}  } $\n",
    "$ \\newcommand{\\Htwo}{ \\mymatrix{rrrr}{ \\frac{1}{2} & \\frac{1}{2} & \\frac{1}{2} & \\frac{1}{2} \\\\ \\frac{1}{2} & -\\frac{1}{2} & \\frac{1}{2} & -\\frac{1}{2} \\\\ \\frac{1}{2} & \\frac{1}{2} & -\\frac{1}{2} & -\\frac{1}{2} \\\\ \\frac{1}{2} & -\\frac{1}{2} & -\\frac{1}{2} & \\frac{1}{2} } } $\n",
    "$ \\newcommand{\\CNOT}{ \\mymatrix{cccc}{1 & 0 & 0 & 0 \\\\ 0 & 1 & 0 & 0 \\\\ 0 & 0 & 0 & 1 \\\\ 0 & 0 & 1 & 0} } $\n",
    "$ \\newcommand{\\norm}[1]{ \\left\\lVert #1 \\right\\rVert } $\n",
    "$ \\newcommand{\\pstate}[1]{ \\lceil \\mspace{-1mu} #1 \\mspace{-1.5mu} \\rfloor } $\n",
    "$ \\newcommand{\\greenbit}[1] {\\mathbf{{\\color{green}#1}}} $\n",
    "$ \\newcommand{\\bluebit}[1] {\\mathbf{{\\color{blue}#1}}} $\n",
    "$ \\newcommand{\\redbit}[1] {\\mathbf{{\\color{red}#1}}} $\n",
    "$ \\newcommand{\\brownbit}[1] {\\mathbf{{\\color{brown}#1}}} $\n",
    "$ \\newcommand{\\blackbit}[1] {\\mathbf{{\\color{black}#1}}} $"
   ]
  },
  {
   "cell_type": "markdown",
   "metadata": {},
   "source": [
    "<font style=\"font-size:28px;\" align=\"left\"><b><font color=\"blue\"> Solutions for </font>Grover's Search: Implementation </b></font>\n",
    "<br>\n",
    "_prepared by Maksim Dimitrijev and Özlem Salehi_\n",
    "<br><br>"
   ]
  },
  {
   "cell_type": "markdown",
   "metadata": {},
   "source": [
    "<a id=\"task2\"></a>\n",
    "\n",
    "<h3>Task 2</h3>\n",
    "\n",
    "\n",
    "Let $N=4$. Implement the query phase and check the unitary matrix for the query operator. Note that we are interested in the top-left $4 \\times 4$ part of the matrix since the remaining parts are due to the ancilla qubit.\n",
    "\n",
    "You are given a function $f$ and its corresponding quantum operator $U_f$. First run the following cell to load operator $U_f$. Then you can make queries to $f$ by applying the operator $U_f$ via the following command:\n",
    "\n",
    "<pre>Uf(circuit,qreg)."
   ]
  },
  {
   "cell_type": "code",
   "execution_count": null,
   "metadata": {},
   "outputs": [],
   "source": [
    "%run quantum.py"
   ]
  },
  {
   "cell_type": "markdown",
   "metadata": {},
   "source": [
    "Now use phase kickback to flip the sign of the marked element:\n",
    "\n",
    "<ul>\n",
    "    <li>Set output qubit (qreg[2]) to $\\ket{-}$ by applying X and H.</li>\n",
    "    <li>Apply operator $U_f$\n",
    "    <li>Set output qubit (qreg[2]) back.</li>\n",
    "</ul>\n",
    "\n",
    "(Can you guess the marked element by looking at the unitary matrix?)"
   ]
  },
  {
   "cell_type": "markdown",
   "metadata": {},
   "source": [
    "<h3>Solution</h3>"
   ]
  },
  {
   "cell_type": "code",
   "execution_count": null,
   "metadata": {},
   "outputs": [],
   "source": [
    "from qiskit import QuantumRegister, ClassicalRegister, QuantumCircuit, execute, Aer\n",
    "\n",
    "qreg = QuantumRegister(3)\n",
    "#No need to define classical register as we are not measuring\n",
    "\n",
    "mycircuit = QuantumCircuit(qreg)\n",
    "\n",
    "\n",
    "#set ancilla\n",
    "mycircuit.x(qreg[2])\n",
    "mycircuit.h(qreg[2])\n",
    "\n",
    "Uf(mycircuit,qreg)  \n",
    "    \n",
    "#set ancilla back\n",
    "mycircuit.h(qreg[2])\n",
    "mycircuit.x(qreg[2]) \n",
    "\n",
    "\n",
    "job = execute(mycircuit,Aer.get_backend('unitary_simulator'))\n",
    "u=job.result().get_unitary(mycircuit,decimals=3).data\n",
    "\n",
    "#We are interested in the top-left 4x4 part\n",
    "for i in range(4):\n",
    "    s=\"\"\n",
    "    for j in range(4):\n",
    "        val = str(u[i][j].real)\n",
    "        while(len(val)<5): val  = \" \"+val\n",
    "        s = s + val\n",
    "    print(s)\n",
    "    \n",
    "\n",
    "mycircuit.draw(output='mpl')"
   ]
  },
  {
   "cell_type": "markdown",
   "metadata": {},
   "source": [
    "<a id=\"task3\"></a>\n",
    "<h3>Task 3</h3>\n",
    "\n",
    "\n",
    "Let $N=4$. Implement the inversion operator and check whether you obtain the following matrix:\n",
    "\n",
    "$\\mymatrix{cccc}{-0.5 & 0.5 & 0.5 & 0.5 \\\\ 0.5 & -0.5 & 0.5 & 0.5 \\\\ 0.5 & 0.5 & -0.5 & 0.5 \\\\ 0.5 & 0.5 & 0.5 & -0.5}$."
   ]
  },
  {
   "cell_type": "markdown",
   "metadata": {},
   "source": [
    "<h3>Solution</h3>"
   ]
  },
  {
   "cell_type": "code",
   "execution_count": 1,
   "metadata": {},
   "outputs": [],
   "source": [
    "def inversion(circuit,quantum_reg):\n",
    "    \n",
    "    \n",
    "    #step 1\n",
    "    circuit.h(quantum_reg[1])\n",
    "    circuit.h(quantum_reg[0])\n",
    "    \n",
    "    #step 2\n",
    "    circuit.x(quantum_reg[1])\n",
    "    circuit.x(quantum_reg[0])\n",
    "\n",
    "    #step 3\n",
    "    circuit.ccx(quantum_reg[1],quantum_reg[0],quantum_reg[2])\n",
    "\n",
    "    #step 4\n",
    "    circuit.x(quantum_reg[1])\n",
    "    circuit.x(quantum_reg[0])\n",
    "    \n",
    "    #step 5\n",
    "    circuit.x(quantum_reg[2])\n",
    "    \n",
    "    #step 6\n",
    "    circuit.h(quantum_reg[1])\n",
    "    circuit.h(quantum_reg[0])"
   ]
  },
  {
   "cell_type": "markdown",
   "metadata": {},
   "source": [
    "Below you can check the matrix of your inversion operator and how the circuit looks like. We are interested in top-left $4 \\times 4$ part of the matrix, the remaining parts are because we used ancilla qubit."
   ]
  },
  {
   "cell_type": "code",
   "execution_count": 2,
   "metadata": {},
   "outputs": [
    {
     "name": "stderr",
     "output_type": "stream",
     "text": [
      "C:\\Users\\Usuario\\Anaconda3\\lib\\site-packages\\numpy\\_distributor_init.py:32: UserWarning: loaded more than 1 DLL from .libs:\n",
      "C:\\Users\\Usuario\\Anaconda3\\lib\\site-packages\\numpy\\.libs\\libopenblas.GK7GX5KEQ4F6UYO3P26ULGBQYHGQO7J4.gfortran-win_amd64.dll\n",
      "C:\\Users\\Usuario\\Anaconda3\\lib\\site-packages\\numpy\\.libs\\libopenblas.XWYDX2IKJW2NMTWSFYNGFUWKQU3LYTCZ.gfortran-win_amd64.dll\n",
      "  stacklevel=1)\n"
     ]
    },
    {
     "name": "stdout",
     "output_type": "stream",
     "text": [
      " -0.5  0.5  0.5  0.5\n",
      "  0.5 -0.5  0.5  0.5\n",
      "  0.5  0.5 -0.5  0.5\n",
      "  0.5  0.5  0.5 -0.5\n"
     ]
    },
    {
     "data": {
      "image/png": "[encoded data removed]",
      "text/plain": [
       "<Figure size 460.778x204.68 with 1 Axes>"
      ]
     },
     "execution_count": 2,
     "metadata": {},
     "output_type": "execute_result"
    }
   ],
   "source": [
    "from qiskit import QuantumRegister, ClassicalRegister, QuantumCircuit, execute, Aer\n",
    "\n",
    "qreg1 =  QuantumRegister(3)\n",
    "\n",
    "mycircuit1 = QuantumCircuit(qreg1)\n",
    "\n",
    "#set ancilla qubit\n",
    "mycircuit1.x(qreg1[2])\n",
    "mycircuit1.h(qreg1[2])\n",
    "    \n",
    "inversion(mycircuit1,qreg1)\n",
    "\n",
    "#set ancilla qubit back\n",
    "mycircuit1.h(qreg1[2])\n",
    "mycircuit1.x(qreg1[2])\n",
    "\n",
    "\n",
    "job = execute(mycircuit1,Aer.get_backend('unitary_simulator'))\n",
    "u=job.result().get_unitary(mycircuit1,decimals=3).data\n",
    "for i in range(4):\n",
    "    s=\"\"\n",
    "    for j in range(4):\n",
    "        val = str(u[i][j].real)\n",
    "        while(len(val)<5): val  = \" \"+val\n",
    "        s = s + val\n",
    "    print(s)\n",
    "    \n",
    "mycircuit1.draw(output='mpl')"
   ]
  },
  {
   "cell_type": "markdown",
   "metadata": {},
   "source": [
    "<a id=\"task4\"></a>\n",
    "\n",
    "<h3>Task 4: Testing Grover's search</h3>\n",
    "\n",
    "Now we are ready to test our operations and run Grover's search. Suppose that there are 4 elements in the list and try to find the marked element.\n",
    "\n",
    "You are given the operator $U_f$. First run the following cell to load it. You can access it via <pre>Uf(circuit,qreg).</pre>\n",
    "qreg[2] is the ancilla qubit and it is shared by the query and the inversion operators.\n",
    "    \n",
    "Which state do you observe the most? "
   ]
  },
  {
   "cell_type": "code",
   "execution_count": null,
   "metadata": {},
   "outputs": [],
   "source": [
    "%run quantum.py"
   ]
  },
  {
   "cell_type": "markdown",
   "metadata": {},
   "source": [
    "<h3>Solution</h3>"
   ]
  },
  {
   "cell_type": "code",
   "execution_count": null,
   "metadata": {},
   "outputs": [],
   "source": [
    "from qiskit import QuantumRegister, ClassicalRegister, QuantumCircuit, execute, Aer\n",
    "\n",
    "qreg = QuantumRegister(3)\n",
    "creg = ClassicalRegister(2)\n",
    "\n",
    "mycircuit = QuantumCircuit(qreg,creg)\n",
    "\n",
    "#Grover\n",
    "\n",
    "\n",
    "#initial step - equal superposition\n",
    "for i in range(2):\n",
    "    mycircuit.h(qreg[i])\n",
    "\n",
    "#set ancilla\n",
    "mycircuit.x(qreg[2])\n",
    "mycircuit.h(qreg[2])\n",
    "\n",
    "mycircuit.barrier()\n",
    "\n",
    "#change the number of iterations\n",
    "iterations=1\n",
    "\n",
    "#Grover's iterations.\n",
    "for i in range(iterations):\n",
    "    #query\n",
    "    Uf(mycircuit,qreg)\n",
    "    \n",
    "    mycircuit.barrier()\n",
    "    #inversion\n",
    "    inversion(mycircuit,qreg)\n",
    "    mycircuit.barrier()\n",
    "    \n",
    "    \n",
    "#set ancilla back\n",
    "mycircuit.h(qreg[2])\n",
    "mycircuit.x(qreg[2]) \n",
    "    \n",
    "mycircuit.measure(qreg[0],creg[0])\n",
    "mycircuit.measure(qreg[1],creg[1])\n",
    "\n",
    "job = execute(mycircuit,Aer.get_backend('qasm_simulator'),shots=10000)\n",
    "counts = job.result().get_counts(mycircuit)\n",
    "\n",
    "# print the outcome\n",
    "for outcome in counts:\n",
    "    print(outcome,\"is observed\",counts[outcome],\"times\")\n",
    "\n",
    "mycircuit.draw(output='mpl')"
   ]
  },
  {
   "cell_type": "markdown",
   "metadata": {},
   "source": [
    "<a id=\"task5\"></a>\n",
    "<h3>Task 5 (Optional, challenging)</h3>\n",
    "\n",
    "Implement the inversion operation for $n=3$ ($N=8$). This time you will need 5 qubits - 3 for the operation, 1 for ancilla, and one more qubit to implement not gate controlled by three qubits.\n",
    "\n",
    "In the implementation the ancilla qubit will be qubit 3, while qubits for control are 0, 1 and 2; qubit 4 is used for the multiple control operation. As a result you should obtain the following values in the top-left $8 \\times 8$ entries:\n",
    "\n",
    "$\\mymatrix{cccccccc}{-0.75 & 0.25 & 0.25 & 0.25 & 0.25 & 0.25 & 0.25 & 0.25 \\\\ 0.25 & -0.75 & 0.25 & 0.25 & 0.25 & 0.25 & 0.25 & 0.25 \\\\ 0.25 & 0.25 & -0.75 & 0.25 & 0.25 & 0.25 & 0.25 & 0.25 \\\\ 0.25 & 0.25 & 0.25 & -0.75 & 0.25 & 0.25 & 0.25 & 0.25 \\\\ 0.25 & 0.25 & 0.25 & 0.25 & -0.75 & 0.25 & 0.25 & 0.25 \\\\ 0.25 & 0.25 & 0.25 & 0.25 & 0.25 & -0.75 & 0.25 & 0.25 \\\\ 0.25 & 0.25 & 0.25 & 0.25 & 0.25 & 0.25 & -0.75 & 0.25 \\\\ 0.25 & 0.25 & 0.25 & 0.25 & 0.25 & 0.25 & 0.25 & -0.75}$."
   ]
  },
  {
   "cell_type": "markdown",
   "metadata": {},
   "source": [
    "<h3>Solution</h3>"
   ]
  },
  {
   "cell_type": "code",
   "execution_count": null,
   "metadata": {},
   "outputs": [],
   "source": [
    "def big_inversion(circuit,quantum_reg):\n",
    "\n",
    "    for i in range(3):\n",
    "        circuit.h(quantum_reg[i])\n",
    "        circuit.x(quantum_reg[i])\n",
    "\n",
    "    circuit.ccx(quantum_reg[1],quantum_reg[0],quantum_reg[4])\n",
    "    circuit.ccx(quantum_reg[2],quantum_reg[4],quantum_reg[3])\n",
    "    circuit.ccx(quantum_reg[1],quantum_reg[0],quantum_reg[4])\n",
    "\n",
    "    for i in range(3):\n",
    "        circuit.x(quantum_reg[i])\n",
    "        circuit.h(quantum_reg[i])\n",
    "    \n",
    "    circuit.x(quantum_reg[3])"
   ]
  },
  {
   "cell_type": "markdown",
   "metadata": {},
   "source": [
    "Below you can check the matrix of your inversion operator. We are interested in the top-left $8 \\times 8$ part of the matrix, the remaining parts are because of additional qubits."
   ]
  },
  {
   "cell_type": "code",
   "execution_count": null,
   "metadata": {},
   "outputs": [],
   "source": [
    "from qiskit import QuantumRegister, ClassicalRegister, QuantumCircuit, execute, Aer\n",
    "\n",
    "big_qreg2 =  QuantumRegister(5)\n",
    "\n",
    "big_mycircuit2 = QuantumCircuit(big_qreg2)\n",
    "\n",
    "#set ancilla\n",
    "big_mycircuit2.x(big_qreg2[3])\n",
    "big_mycircuit2.h(big_qreg2[3])\n",
    "    \n",
    "big_inversion(big_mycircuit2,big_qreg2)\n",
    "\n",
    "#set ancilla back\n",
    "big_mycircuit2.h(big_qreg2[3])\n",
    "big_mycircuit2.x(big_qreg2[3])\n",
    "\n",
    "job = execute(big_mycircuit2,Aer.get_backend('unitary_simulator'))\n",
    "u=job.result().get_unitary(big_mycircuit2,decimals=3).data\n",
    "for i in range(8):\n",
    "    s=\"\"\n",
    "    for j in range(8):\n",
    "        val = str(u[i][j].real)\n",
    "        while(len(val)<6): val  = \" \"+val\n",
    "        s = s + val\n",
    "    print(s)"
   ]
  },
  {
   "cell_type": "markdown",
   "metadata": {},
   "source": [
    "<a id=\"task6\"></a>\n",
    "<h3>Task 6: Testing Grover's search for 8 elements (Optional, challenging)</h3>\n",
    "\n",
    "Now we will test Grover's search on 8 elements.\n",
    "\n",
    "You are given the operator $U_{f_8}$. First run the following cell to load it. You can access it via:\n",
    "\n",
    "<pre>Uf_8(circuit,qreg)</pre>\n",
    "    \n",
    "Which state do you observe the most?"
   ]
  },
  {
   "cell_type": "code",
   "execution_count": null,
   "metadata": {},
   "outputs": [],
   "source": [
    "%run quantum.py"
   ]
  },
  {
   "cell_type": "markdown",
   "metadata": {},
   "source": [
    "<h3>Solution</h3>"
   ]
  },
  {
   "cell_type": "code",
   "execution_count": 7,
   "metadata": {},
   "outputs": [],
   "source": [
    "def big_inversion(circuit,quantum_reg):\n",
    "\n",
    "    for i in range(3):\n",
    "        circuit.h(quantum_reg[i])\n",
    "        circuit.x(quantum_reg[i])\n",
    "\n",
    "    circuit.ccx(quantum_reg[1],quantum_reg[0],quantum_reg[4])\n",
    "    circuit.ccx(quantum_reg[2],quantum_reg[4],quantum_reg[3])\n",
    "    circuit.ccx(quantum_reg[1],quantum_reg[0],quantum_reg[4])\n",
    "\n",
    "    for i in range(3):\n",
    "        circuit.x(quantum_reg[i])\n",
    "        circuit.h(quantum_reg[i])\n",
    "    \n",
    "    circuit.x(quantum_reg[3])"
   ]
  },
  {
   "cell_type": "code",
   "execution_count": 11,
   "metadata": {},
   "outputs": [
    {
     "name": "stdout",
     "output_type": "stream",
     "text": [
      "011 is observed 9479 times\n",
      "100 is observed 75 times\n",
      "101 is observed 73 times\n",
      "001 is observed 82 times\n",
      "000 is observed 69 times\n",
      "111 is observed 66 times\n",
      "010 is observed 85 times\n",
      "110 is observed 71 times\n"
     ]
    },
    {
     "data": {
      "image/png": "[encoded data removed]",
      "text/plain": [
       "<Figure size 1617.85x806.68 with 1 Axes>"
      ]
     },
     "execution_count": 11,
     "metadata": {},
     "output_type": "execute_result"
    }
   ],
   "source": [
    "from qiskit import QuantumRegister, ClassicalRegister, QuantumCircuit, execute, Aer\n",
    "\n",
    "qreg8 =  QuantumRegister(5)\n",
    "creg8 = ClassicalRegister(3)\n",
    "\n",
    "mycircuit8 = QuantumCircuit(qreg8,creg8)\n",
    "\n",
    "#set ancilla\n",
    "mycircuit8.x(qreg8[3])\n",
    "mycircuit8.h(qreg8[3])\n",
    "\n",
    "#Grover\n",
    "for i in range(3):\n",
    "    mycircuit8.h(qreg8[i])\n",
    "\n",
    "mycircuit8.barrier()\n",
    "\n",
    "#Try 1,2,6,12 8iterations of Grover\n",
    "for i in range(2):\n",
    "    Uf_8(mycircuit8,qreg8)\n",
    "    mycircuit8.barrier()\n",
    "    big_inversion(mycircuit8,qreg8)\n",
    "    mycircuit8.barrier()\n",
    "\n",
    "#set ancilla back\n",
    "\n",
    "mycircuit8.h(qreg8[3])\n",
    "mycircuit8.x(qreg8[3])\n",
    "\n",
    "for i in range(3):\n",
    "    mycircuit8.measure(qreg8[i],creg8[i])\n",
    "\n",
    "job = execute(mycircuit8,Aer.get_backend('qasm_simulator'),shots=10000)\n",
    "counts8 = job.result().get_counts(mycircuit8)\n",
    "# print the reverse of the outcome\n",
    "for outcome in counts8:\n",
    "    print(outcome,\"is observed\",counts8[outcome],\"times\")\n",
    "\n",
    "mycircuit8.draw(output='mpl')"
   ]
  },
  {
   "cell_type": "markdown",
   "metadata": {},
   "source": [
    "<a id=\"task8\"></a>\n",
    "\n",
    "<h3>Task 8</h3>\n",
    "\n",
    "Implement an oracle function which marks the element 00. Run Grover's search with the oracle you have implemented. "
   ]
  },
  {
   "cell_type": "code",
   "execution_count": null,
   "metadata": {},
   "outputs": [],
   "source": [
    "def oracle_00(circuit,qreg):\n",
    "  "
   ]
  },
  {
   "cell_type": "markdown",
   "metadata": {},
   "source": [
    "<h3>Solution</h3>"
   ]
  },
  {
   "cell_type": "code",
   "execution_count": null,
   "metadata": {},
   "outputs": [],
   "source": [
    "def oracle_00(circuit,qreg):\n",
    "    circuit.x(qreg[0])\n",
    "    circuit.x(qreg[1])\n",
    "    circuit.ccx(qreg[0],qreg[1],qreg[2])\n",
    "    circuit.x(qreg[0])\n",
    "    circuit.x(qreg[1])"
   ]
  },
  {
   "cell_type": "code",
   "execution_count": null,
   "metadata": {},
   "outputs": [],
   "source": [
    "from qiskit import QuantumRegister, ClassicalRegister, QuantumCircuit, execute, Aer\n",
    "\n",
    "qreg = QuantumRegister(3)\n",
    "creg = ClassicalRegister(2)\n",
    "\n",
    "mycircuit = QuantumCircuit(qreg,creg)\n",
    "\n",
    "#Grover\n",
    "\n",
    "\n",
    "#initial step - equal superposition\n",
    "for i in range(2):\n",
    "    mycircuit.h(qreg[i])\n",
    "\n",
    "#set ancilla\n",
    "mycircuit.x(qreg[2])\n",
    "mycircuit.h(qreg[2])\n",
    "\n",
    "mycircuit.barrier()\n",
    "\n",
    "#change the number of iterations\n",
    "iterations=1\n",
    "\n",
    "#Grover's iterations.\n",
    "for i in range(iterations):\n",
    "    #query\n",
    "    oracle_00(mycircuit,qreg)\n",
    "    \n",
    "    mycircuit.barrier()\n",
    "    #inversion\n",
    "    inversion(mycircuit,qreg)\n",
    "    mycircuit.barrier()\n",
    "    \n",
    "    \n",
    "#set ancilla back\n",
    "mycircuit.h(qreg[2])\n",
    "mycircuit.x(qreg[2]) \n",
    "    \n",
    "mycircuit.measure(qreg[0],creg[0])\n",
    "mycircuit.measure(qreg[1],creg[1])\n",
    "\n",
    "job = execute(mycircuit,Aer.get_backend('qasm_simulator'),shots=10000)\n",
    "counts = job.result().get_counts(mycircuit)\n",
    "\n",
    "# print the reverse of the outcome\n",
    "for outcome in counts:\n",
    "    reverse_outcome = ''\n",
    "    for i in outcome:\n",
    "        reverse_outcome = i + reverse_outcome\n",
    "    print(reverse_outcome,\"is observed\",counts[outcome],\"times\")\n",
    "\n",
    "mycircuit.draw(output='mpl')"
   ]
  }
 ],
 "metadata": {
  "kernelspec": {
   "display_name": "Python 3 (ipykernel)",
   "language": "python",
   "name": "python3"
  },
  "language_info": {
   "codemirror_mode": {
    "name": "ipython",
    "version": 3
   },
   "file_extension": ".py",
   "mimetype": "text/x-python",
   "name": "python",
   "nbconvert_exporter": "python",
   "pygments_lexer": "ipython3",
   "version": "3.7.4"
  }
 },
 "nbformat": 4,
 "nbformat_minor": 2
}
